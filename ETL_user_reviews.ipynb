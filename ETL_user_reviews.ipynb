{
 "cells": [
  {
   "cell_type": "markdown",
   "metadata": {},
   "source": [
    "# ETL User Reviews"
   ]
  },
  {
   "cell_type": "markdown",
   "metadata": {},
   "source": [
    "Importamos las librerias que utilizaremos en esta etapa del proyecto."
   ]
  },
  {
   "cell_type": "code",
   "execution_count": 119,
   "metadata": {},
   "outputs": [],
   "source": [
    "import pandas as pd\n",
    "import numpy as np\n",
    "import ast\n",
    "import json"
   ]
  },
  {
   "cell_type": "markdown",
   "metadata": {},
   "source": [
    "## Extracción de Datos:\n",
    "\n",
    "Hemos comenzado descomprimiendo los archivos json.gz con WinRAR, haciendo que los datos estén listos para su procesamiento en VS Code. Luego lo cargo en un DataFrame para su uso posterior."
   ]
  },
  {
   "cell_type": "code",
   "execution_count": 120,
   "metadata": {},
   "outputs": [
    {
     "name": "stdout",
     "output_type": "stream",
     "text": [
      "             user_id                                           user_url  \\\n",
      "0  76561197970982479  http://steamcommunity.com/profiles/76561197970...   \n",
      "1            js41637               http://steamcommunity.com/id/js41637   \n",
      "2          evcentric             http://steamcommunity.com/id/evcentric   \n",
      "3              doctr                 http://steamcommunity.com/id/doctr   \n",
      "4          maplemage             http://steamcommunity.com/id/maplemage   \n",
      "\n",
      "                                             reviews  \n",
      "0  [{'funny': '', 'posted': 'Posted November 5, 2...  \n",
      "1  [{'funny': '', 'posted': 'Posted June 24, 2014...  \n",
      "2  [{'funny': '', 'posted': 'Posted February 3.',...  \n",
      "3  [{'funny': '', 'posted': 'Posted October 14, 2...  \n",
      "4  [{'funny': '3 people found this review funny',...  \n"
     ]
    }
   ],
   "source": [
    "# Ruta al archivo JSON\n",
    "raw_data = 'australian_user_reviews.json'\n",
    "\n",
    "rows = []\n",
    "\n",
    "# Probar con una codificación específica si utf-8 no funciona\n",
    "with open(raw_data, encoding='MacRoman') as f:\n",
    "    for line in f.readlines():\n",
    "        try:\n",
    "            rows.append(ast.literal_eval(line))\n",
    "        except ValueError as e:\n",
    "            print(f\"Error en la línea: {line}\")\n",
    "            continue\n",
    "\n",
    "df_user_reviews = pd.DataFrame(rows)\n",
    "print(df_user_reviews.head())\n"
   ]
  },
  {
   "cell_type": "code",
   "execution_count": 121,
   "metadata": {},
   "outputs": [
    {
     "name": "stdout",
     "output_type": "stream",
     "text": [
      "<class 'pandas.core.frame.DataFrame'>\n",
      "RangeIndex: 25799 entries, 0 to 25798\n",
      "Data columns (total 3 columns):\n",
      " #   Column    Non-Null Count  Dtype \n",
      "---  ------    --------------  ----- \n",
      " 0   user_id   25799 non-null  object\n",
      " 1   user_url  25799 non-null  object\n",
      " 2   reviews   25799 non-null  object\n",
      "dtypes: object(3)\n",
      "memory usage: 604.8+ KB\n"
     ]
    }
   ],
   "source": [
    "df_user_reviews.info()"
   ]
  },
  {
   "cell_type": "markdown",
   "metadata": {},
   "source": [
    "## Transformación de Datos:\n",
    "\n",
    "En segundo lugar, continuamos con la transformación. Esta consiste en limpiar, modificar y preparar los datos para su uso posterior. Eso incluye eliminar datos nulos, convertir tipos de datos, normalizar columnas, desanidar listas, etc."
   ]
  },
  {
   "cell_type": "markdown",
   "metadata": {},
   "source": [
    "### DATOS NULOS y COLUMNAS IRRELEVANTES"
   ]
  },
  {
   "cell_type": "markdown",
   "metadata": {},
   "source": [
    "Ahora que se la magnitud del dataset empiezo a depurarlo. En primer lugar voy a cheuqear si hay o no **id** que tengan **valor nulo**, dado que eso me podria traer problemas al relacionar mis datos con los otros dataset. De existir **id** sin valor, entonces eliminaria esas filas."
   ]
  },
  {
   "cell_type": "markdown",
   "metadata": {},
   "source": [
    "Dada la informacion que entrega df_user_reviews.info() notamos que en este caso el DataFrame original  NO tiene valores nulos dado que la cantidad de filas se corresponden con la cantidad  de id, url y reviews. Por ende no se justifica averiguar filas con data nula ni rearmarla. Por esta razón pasamos directamente a la eliminación de columnas que puedan estar de más para nuesstro objetivo puntual del proyecto. "
   ]
  },
  {
   "cell_type": "code",
   "execution_count": 122,
   "metadata": {},
   "outputs": [
    {
     "name": "stdout",
     "output_type": "stream",
     "text": [
      "<class 'pandas.core.frame.DataFrame'>\n",
      "RangeIndex: 25799 entries, 0 to 25798\n",
      "Data columns (total 2 columns):\n",
      " #   Column   Non-Null Count  Dtype \n",
      "---  ------   --------------  ----- \n",
      " 0   user_id  25799 non-null  object\n",
      " 1   reviews  25799 non-null  object\n",
      "dtypes: object(2)\n",
      "memory usage: 403.2+ KB\n"
     ]
    }
   ],
   "source": [
    "columns_relevant = ['user_id', 'reviews']\n",
    "df_user_reviews2 = df_user_reviews[columns_relevant]\n",
    "df_user_reviews2.info()"
   ]
  },
  {
   "cell_type": "markdown",
   "metadata": {},
   "source": [
    "### CALIDAD DE DATOS"
   ]
  },
  {
   "cell_type": "code",
   "execution_count": 123,
   "metadata": {},
   "outputs": [
    {
     "data": {
      "text/plain": [
       "user_id    object\n",
       "reviews    object\n",
       "dtype: object"
      ]
     },
     "execution_count": 123,
     "metadata": {},
     "output_type": "execute_result"
    }
   ],
   "source": [
    "df_user_reviews2.dtypes"
   ]
  },
  {
   "cell_type": "markdown",
   "metadata": {},
   "source": [
    "**user_id**: analizamos que tipos de datos tiene dado que está definido como object. AL ver tan solo algunos ejemplos de la tabla notamos que hay tanto nombres como números. Por ello no se justifica modifcarlos."
   ]
  },
  {
   "cell_type": "code",
   "execution_count": 124,
   "metadata": {},
   "outputs": [
    {
     "data": {
      "text/html": [
       "<div>\n",
       "<style scoped>\n",
       "    .dataframe tbody tr th:only-of-type {\n",
       "        vertical-align: middle;\n",
       "    }\n",
       "\n",
       "    .dataframe tbody tr th {\n",
       "        vertical-align: top;\n",
       "    }\n",
       "\n",
       "    .dataframe thead th {\n",
       "        text-align: right;\n",
       "    }\n",
       "</style>\n",
       "<table border=\"1\" class=\"dataframe\">\n",
       "  <thead>\n",
       "    <tr style=\"text-align: right;\">\n",
       "      <th></th>\n",
       "      <th>user_id</th>\n",
       "      <th>reviews</th>\n",
       "    </tr>\n",
       "  </thead>\n",
       "  <tbody>\n",
       "    <tr>\n",
       "      <th>0</th>\n",
       "      <td>76561197970982479</td>\n",
       "      <td>[{'funny': '', 'posted': 'Posted November 5, 2...</td>\n",
       "    </tr>\n",
       "    <tr>\n",
       "      <th>1</th>\n",
       "      <td>js41637</td>\n",
       "      <td>[{'funny': '', 'posted': 'Posted June 24, 2014...</td>\n",
       "    </tr>\n",
       "    <tr>\n",
       "      <th>2</th>\n",
       "      <td>evcentric</td>\n",
       "      <td>[{'funny': '', 'posted': 'Posted February 3.',...</td>\n",
       "    </tr>\n",
       "    <tr>\n",
       "      <th>3</th>\n",
       "      <td>doctr</td>\n",
       "      <td>[{'funny': '', 'posted': 'Posted October 14, 2...</td>\n",
       "    </tr>\n",
       "    <tr>\n",
       "      <th>4</th>\n",
       "      <td>maplemage</td>\n",
       "      <td>[{'funny': '3 people found this review funny',...</td>\n",
       "    </tr>\n",
       "    <tr>\n",
       "      <th>5</th>\n",
       "      <td>Wackky</td>\n",
       "      <td>[{'funny': '', 'posted': 'Posted May 5, 2014.'...</td>\n",
       "    </tr>\n",
       "    <tr>\n",
       "      <th>6</th>\n",
       "      <td>76561198079601835</td>\n",
       "      <td>[{'funny': '1 person found this review funny',...</td>\n",
       "    </tr>\n",
       "    <tr>\n",
       "      <th>7</th>\n",
       "      <td>MeaTCompany</td>\n",
       "      <td>[{'funny': '', 'posted': 'Posted July 24.', 'l...</td>\n",
       "    </tr>\n",
       "    <tr>\n",
       "      <th>8</th>\n",
       "      <td>76561198089393905</td>\n",
       "      <td>[{'funny': '5 people found this review funny',...</td>\n",
       "    </tr>\n",
       "    <tr>\n",
       "      <th>9</th>\n",
       "      <td>76561198156664158</td>\n",
       "      <td>[{'funny': '', 'posted': 'Posted June 16.', 'l...</td>\n",
       "    </tr>\n",
       "  </tbody>\n",
       "</table>\n",
       "</div>"
      ],
      "text/plain": [
       "             user_id                                            reviews\n",
       "0  76561197970982479  [{'funny': '', 'posted': 'Posted November 5, 2...\n",
       "1            js41637  [{'funny': '', 'posted': 'Posted June 24, 2014...\n",
       "2          evcentric  [{'funny': '', 'posted': 'Posted February 3.',...\n",
       "3              doctr  [{'funny': '', 'posted': 'Posted October 14, 2...\n",
       "4          maplemage  [{'funny': '3 people found this review funny',...\n",
       "5             Wackky  [{'funny': '', 'posted': 'Posted May 5, 2014.'...\n",
       "6  76561198079601835  [{'funny': '1 person found this review funny',...\n",
       "7        MeaTCompany  [{'funny': '', 'posted': 'Posted July 24.', 'l...\n",
       "8  76561198089393905  [{'funny': '5 people found this review funny',...\n",
       "9  76561198156664158  [{'funny': '', 'posted': 'Posted June 16.', 'l..."
      ]
     },
     "execution_count": 124,
     "metadata": {},
     "output_type": "execute_result"
    }
   ],
   "source": [
    "df_user_reviews2.head(10)"
   ]
  },
  {
   "cell_type": "markdown",
   "metadata": {},
   "source": [
    "**reviews**: En este caso, lo primero y más importante será desanidar los datos, dado que como se observa en la tabla de arriba ser diccionarios anidados en en cada dato de la columna."
   ]
  },
  {
   "cell_type": "code",
   "execution_count": 125,
   "metadata": {},
   "outputs": [
    {
     "name": "stdout",
     "output_type": "stream",
     "text": [
      "             user_id item_id  recommend  \\\n",
      "0  76561197970982479    1250       True   \n",
      "1  76561197970982479   22200       True   \n",
      "2  76561197970982479   43110       True   \n",
      "3            js41637  251610       True   \n",
      "4            js41637  227300       True   \n",
      "\n",
      "                                         user_review  \n",
      "0  Simple yet with great replayability. In my opi...  \n",
      "1               It's unique and worth a playthrough.  \n",
      "2  Great atmosphere. The gunplay can be a bit chu...  \n",
      "3  I know what you think when you see this title ...  \n",
      "4  For a simple (it's actually not all that simpl...  \n"
     ]
    }
   ],
   "source": [
    "def reviews_extract(df):\n",
    "    \n",
    "    reviews_list = []\n",
    "\n",
    "    # Iterar sobre cada fila del DataFrame\n",
    "    for _, row in df.iterrows():\n",
    "        user_id = row['user_id']\n",
    "        reviews = row['reviews']  \n",
    "\n",
    "        # Iterar sobre cada reseña en la lista y extraemos la info necesaria \n",
    "        for review in reviews:\n",
    "            item_id = review.get('item_id')\n",
    "            recommend = review.get('recommend')\n",
    "            review_text = review.get('review')\n",
    "          \n",
    "            reviews_list.append([user_id, item_id, recommend, review_text])\n",
    "\n",
    "    # Crear un nuevo DataFrame\n",
    "    df_reviews = pd.DataFrame(reviews_list, columns=['user_id', 'item_id', 'recommend', 'user_review'])\n",
    "    return df_reviews\n",
    "\n",
    "# Llamar a la función para extraer las reseñas\n",
    "df_user_reviews3 = reviews_extract(df_user_reviews2)\n",
    "\n",
    "# Ver las primeras filas del nuevo DataFrame\n",
    "print(df_user_reviews3.head())\n"
   ]
  },
  {
   "cell_type": "code",
   "execution_count": 126,
   "metadata": {},
   "outputs": [
    {
     "name": "stdout",
     "output_type": "stream",
     "text": [
      "user_id        object\n",
      "item_id         int64\n",
      "recommend        bool\n",
      "user_review    object\n",
      "dtype: object\n"
     ]
    }
   ],
   "source": [
    "# Convertir item_id a entero y recommend a booleano\n",
    "df_user_reviews3['item_id'] = df_user_reviews3['item_id'].astype(int)\n",
    "df_user_reviews3['recommend'] = df_user_reviews3['recommend'].astype(bool)\n",
    "\n",
    "# Verificar los tipos de datos\n",
    "print(df_user_reviews3.dtypes)"
   ]
  },
  {
   "cell_type": "code",
   "execution_count": 127,
   "metadata": {},
   "outputs": [
    {
     "data": {
      "text/html": [
       "<div>\n",
       "<style scoped>\n",
       "    .dataframe tbody tr th:only-of-type {\n",
       "        vertical-align: middle;\n",
       "    }\n",
       "\n",
       "    .dataframe tbody tr th {\n",
       "        vertical-align: top;\n",
       "    }\n",
       "\n",
       "    .dataframe thead th {\n",
       "        text-align: right;\n",
       "    }\n",
       "</style>\n",
       "<table border=\"1\" class=\"dataframe\">\n",
       "  <thead>\n",
       "    <tr style=\"text-align: right;\">\n",
       "      <th></th>\n",
       "      <th>user_id</th>\n",
       "      <th>item_id</th>\n",
       "      <th>recommend</th>\n",
       "      <th>user_review</th>\n",
       "    </tr>\n",
       "  </thead>\n",
       "  <tbody>\n",
       "    <tr>\n",
       "      <th>0</th>\n",
       "      <td>76561197970982479</td>\n",
       "      <td>1250</td>\n",
       "      <td>True</td>\n",
       "      <td>Simple yet with great replayability. In my opi...</td>\n",
       "    </tr>\n",
       "    <tr>\n",
       "      <th>1</th>\n",
       "      <td>76561197970982479</td>\n",
       "      <td>22200</td>\n",
       "      <td>True</td>\n",
       "      <td>It's unique and worth a playthrough.</td>\n",
       "    </tr>\n",
       "    <tr>\n",
       "      <th>2</th>\n",
       "      <td>76561197970982479</td>\n",
       "      <td>43110</td>\n",
       "      <td>True</td>\n",
       "      <td>Great atmosphere. The gunplay can be a bit chu...</td>\n",
       "    </tr>\n",
       "    <tr>\n",
       "      <th>3</th>\n",
       "      <td>js41637</td>\n",
       "      <td>251610</td>\n",
       "      <td>True</td>\n",
       "      <td>I know what you think when you see this title ...</td>\n",
       "    </tr>\n",
       "    <tr>\n",
       "      <th>4</th>\n",
       "      <td>js41637</td>\n",
       "      <td>227300</td>\n",
       "      <td>True</td>\n",
       "      <td>For a simple (it's actually not all that simpl...</td>\n",
       "    </tr>\n",
       "  </tbody>\n",
       "</table>\n",
       "</div>"
      ],
      "text/plain": [
       "             user_id  item_id  recommend  \\\n",
       "0  76561197970982479     1250       True   \n",
       "1  76561197970982479    22200       True   \n",
       "2  76561197970982479    43110       True   \n",
       "3            js41637   251610       True   \n",
       "4            js41637   227300       True   \n",
       "\n",
       "                                         user_review  \n",
       "0  Simple yet with great replayability. In my opi...  \n",
       "1               It's unique and worth a playthrough.  \n",
       "2  Great atmosphere. The gunplay can be a bit chu...  \n",
       "3  I know what you think when you see this title ...  \n",
       "4  For a simple (it's actually not all that simpl...  "
      ]
     },
     "execution_count": 127,
     "metadata": {},
     "output_type": "execute_result"
    }
   ],
   "source": [
    "df_user_reviews3.head()"
   ]
  },
  {
   "cell_type": "markdown",
   "metadata": {},
   "source": [
    "### Feature Engineering: Analisis de sentiminentos.\n",
    "Partiendo de review, se debe clasificar en: \n",
    "\n",
    "**•\t0 si es negativa**\n",
    "**•\t1 si es neutral o si la reseña está ausente**\n",
    "**•\t2 si es positiva.**\n"
   ]
  },
  {
   "cell_type": "code",
   "execution_count": 128,
   "metadata": {},
   "outputs": [
    {
     "name": "stderr",
     "output_type": "stream",
     "text": [
      "[nltk_data] Downloading package vader_lexicon to\n",
      "[nltk_data]     C:\\Users\\MegaTecnologia\\AppData\\Roaming\\nltk_data...\n",
      "[nltk_data]   Package vader_lexicon is already up-to-date!\n"
     ]
    },
    {
     "data": {
      "text/html": [
       "<div>\n",
       "<style scoped>\n",
       "    .dataframe tbody tr th:only-of-type {\n",
       "        vertical-align: middle;\n",
       "    }\n",
       "\n",
       "    .dataframe tbody tr th {\n",
       "        vertical-align: top;\n",
       "    }\n",
       "\n",
       "    .dataframe thead th {\n",
       "        text-align: right;\n",
       "    }\n",
       "</style>\n",
       "<table border=\"1\" class=\"dataframe\">\n",
       "  <thead>\n",
       "    <tr style=\"text-align: right;\">\n",
       "      <th></th>\n",
       "      <th>user_id</th>\n",
       "      <th>item_id</th>\n",
       "      <th>recommend</th>\n",
       "      <th>sentiment_analysis</th>\n",
       "    </tr>\n",
       "  </thead>\n",
       "  <tbody>\n",
       "    <tr>\n",
       "      <th>0</th>\n",
       "      <td>76561197970982479</td>\n",
       "      <td>1250</td>\n",
       "      <td>True</td>\n",
       "      <td>2</td>\n",
       "    </tr>\n",
       "    <tr>\n",
       "      <th>1</th>\n",
       "      <td>76561197970982479</td>\n",
       "      <td>22200</td>\n",
       "      <td>True</td>\n",
       "      <td>1</td>\n",
       "    </tr>\n",
       "    <tr>\n",
       "      <th>2</th>\n",
       "      <td>76561197970982479</td>\n",
       "      <td>43110</td>\n",
       "      <td>True</td>\n",
       "      <td>2</td>\n",
       "    </tr>\n",
       "    <tr>\n",
       "      <th>3</th>\n",
       "      <td>js41637</td>\n",
       "      <td>251610</td>\n",
       "      <td>True</td>\n",
       "      <td>2</td>\n",
       "    </tr>\n",
       "    <tr>\n",
       "      <th>4</th>\n",
       "      <td>js41637</td>\n",
       "      <td>227300</td>\n",
       "      <td>True</td>\n",
       "      <td>2</td>\n",
       "    </tr>\n",
       "  </tbody>\n",
       "</table>\n",
       "</div>"
      ],
      "text/plain": [
       "             user_id  item_id  recommend  sentiment_analysis\n",
       "0  76561197970982479     1250       True                   2\n",
       "1  76561197970982479    22200       True                   1\n",
       "2  76561197970982479    43110       True                   2\n",
       "3            js41637   251610       True                   2\n",
       "4            js41637   227300       True                   2"
      ]
     },
     "execution_count": 128,
     "metadata": {},
     "output_type": "execute_result"
    }
   ],
   "source": [
    "import nltk\n",
    "from nltk.sentiment.vader import SentimentIntensityAnalyzer\n",
    "\n",
    "#Descargar el léxico VADER\n",
    "nltk.download('vader_lexicon')\n",
    "\n",
    "#Creación una instancia del analizador\n",
    "analyzer = SentimentIntensityAnalyzer()\n",
    "\n",
    "df_user_reviews3['sentiment_analysis'] = df_user_reviews3['user_review'].apply(lambda x: analyzer.polarity_scores(x)['compound'])\n",
    "# clasificar el sentimiento\n",
    "df_user_reviews3['sentiment_analysis'] = df_user_reviews3['sentiment_analysis'].apply(lambda x: 0 if x < -0.3 else (1 if -0.3 <= x <= 0.3 else 2))\n",
    "#df_user_reviews3['review_neg'] = df_user_reviews3['sentiment_analysis'].apply(lambda x: 1 if x< -0.3 else 0)\n",
    "#df_user_reviews3['review_neu'] = df_user_reviews3['sentiment_analysis'].apply(lambda x: 1 if -0.3<=x <= 0.3 else 0)\n",
    "#df_user_reviews3['review_pos'] = df_user_reviews3['sentiment_analysis'].apply(lambda x: 1 if x> 0.3 else 0)\n",
    "\n",
    "#Eliminar columna user_reviews para reemplazar por sentimentalAnalysis\n",
    "df_user_reviews3 = df_user_reviews3.drop('user_review', axis=1)\n",
    "df_user_reviews3.head()\n"
   ]
  },
  {
   "cell_type": "markdown",
   "metadata": {},
   "source": [
    "### Cuidado Estético y Reorganización de columnas"
   ]
  },
  {
   "cell_type": "code",
   "execution_count": 129,
   "metadata": {},
   "outputs": [
    {
     "name": "stdout",
     "output_type": "stream",
     "text": [
      "<class 'pandas.core.frame.DataFrame'>\n",
      "RangeIndex: 59305 entries, 0 to 59304\n",
      "Data columns (total 4 columns):\n",
      " #   Column                    Non-Null Count  Dtype \n",
      "---  ------                    --------------  ----- \n",
      " 0   id_usuario                59305 non-null  object\n",
      " 1   id_item                   59305 non-null  int64 \n",
      " 2   recomendación             59305 non-null  bool  \n",
      " 3   analisis_de_sentimientos  59305 non-null  int64 \n",
      "dtypes: bool(1), int64(2), object(1)\n",
      "memory usage: 1.4+ MB\n"
     ]
    }
   ],
   "source": [
    "# Normalizar nombres de columnas a español\n",
    "new_column_names = {\n",
    "    'user_id': 'id_usuario',\n",
    "    'item_id': 'id_item',\n",
    "    'recommend': 'recomendación',\n",
    "     'sentiment_analysis' : 'analisis_de_sentimientos' \n",
    "}\n",
    "df_user_reviews3 = df_user_reviews3.rename(columns=new_column_names)\n",
    "df_user_reviews3.info()\n"
   ]
  },
  {
   "cell_type": "code",
   "execution_count": 130,
   "metadata": {},
   "outputs": [
    {
     "name": "stdout",
     "output_type": "stream",
     "text": [
      "<class 'pandas.core.frame.DataFrame'>\n",
      "Index: 58431 entries, 0 to 59304\n",
      "Data columns (total 4 columns):\n",
      " #   Column                    Non-Null Count  Dtype \n",
      "---  ------                    --------------  ----- \n",
      " 0   id_usuario                58431 non-null  object\n",
      " 1   id_item                   58431 non-null  int64 \n",
      " 2   recomendación             58431 non-null  bool  \n",
      " 3   analisis_de_sentimientos  58431 non-null  int64 \n",
      "dtypes: bool(1), int64(2), object(1)\n",
      "memory usage: 1.8+ MB\n",
      "None\n"
     ]
    }
   ],
   "source": [
    "# Eliminar filas duplicadas en caso de que existan\n",
    "df_user_reviews4 = df_user_reviews3.drop_duplicates()\n",
    "\n",
    "# Verificar el DataFrame después de eliminar duplicados, como se ve en el resultado no hay duplicados en esta altura.\n",
    "print(df_user_reviews4.info())\n"
   ]
  },
  {
   "cell_type": "markdown",
   "metadata": {},
   "source": [
    "## Carga de Datos (Load)"
   ]
  },
  {
   "cell_type": "markdown",
   "metadata": {},
   "source": [
    "En esta fase final del proceso ETL, los datos limpios y transformados se cargan en un sistema de almacenamiento o base de datos de destino. En nuestro caso utilizaremos Parquet dada su eficiencia. Yquedan ya listos para ser usados por FastAPI y Render."
   ]
  },
  {
   "cell_type": "code",
   "execution_count": 131,
   "metadata": {},
   "outputs": [],
   "source": [
    "import pyarrow\n",
    "import fastparquet"
   ]
  },
  {
   "cell_type": "code",
   "execution_count": 132,
   "metadata": {},
   "outputs": [
    {
     "name": "stdout",
     "output_type": "stream",
     "text": [
      "Archivo CSV guardado exitosamente.\n",
      "Archivo Parquet guardado exitosamente.\n"
     ]
    }
   ],
   "source": [
    "# Guardar el DataFrame en formato CSV\n",
    "df_user_reviews4.to_csv('australian_user_reviews.csv', index=False)\n",
    "print(\"Archivo CSV guardado exitosamente.\")\n",
    "\n",
    "# Guardar el DataFrame en formato Parquet\n",
    "df_user_reviews4.to_parquet('australian_user_reviews.parquet', index=False, engine='pyarrow', compression='snappy')\n",
    "print(\"Archivo Parquet guardado exitosamente.\")"
   ]
  },
  {
   "cell_type": "markdown",
   "metadata": {},
   "source": [
    "**Muestra Aleatoria**\n",
    "\n",
    "En ciertas ocasiones puede ser de gran utilidad una muestra más pequeña de nuestro dataset para agilizar el trabajo. Y para que sea representativa la haremos aleatoria"
   ]
  },
  {
   "cell_type": "code",
   "execution_count": 133,
   "metadata": {},
   "outputs": [
    {
     "name": "stdout",
     "output_type": "stream",
     "text": [
      "              id_usuario  id_item  recomendación  analisis_de_sentimientos\n",
      "25511           baranaka      730           True                         2\n",
      "37806       imarockerbtw      570           True                         0\n",
      "40980           TSGStosh     9480           True                         2\n",
      "25817      bryceblacktop    22300           True                         2\n",
      "17552  76561198046324554   228260           True                         2\n",
      "<class 'pandas.core.frame.DataFrame'>\n",
      "Index: 30000 entries, 25511 to 41019\n",
      "Data columns (total 4 columns):\n",
      " #   Column                    Non-Null Count  Dtype \n",
      "---  ------                    --------------  ----- \n",
      " 0   id_usuario                30000 non-null  object\n",
      " 1   id_item                   30000 non-null  int64 \n",
      " 2   recomendación             30000 non-null  bool  \n",
      " 3   analisis_de_sentimientos  30000 non-null  int64 \n",
      "dtypes: bool(1), int64(2), object(1)\n",
      "memory usage: 966.8+ KB\n",
      "None\n"
     ]
    }
   ],
   "source": [
    "# Selección aleatoria de 30,000 filas\n",
    "df_random_sample = df_user_reviews4.sample(n=30000, random_state=27)\n",
    "print(df_random_sample.head())\n",
    "print(df_random_sample.info())\n"
   ]
  },
  {
   "cell_type": "code",
   "execution_count": 134,
   "metadata": {},
   "outputs": [
    {
     "name": "stdout",
     "output_type": "stream",
     "text": [
      "Muestra aleatoria para consultas guardada exitosamente.\n"
     ]
    }
   ],
   "source": [
    "df_random_sample.to_parquet('random_sample_reviews.parquet', index=False, engine='pyarrow', compression='snappy')\n",
    "print(\"Muestra aleatoria para consultas guardada exitosamente.\")\n"
   ]
  },
  {
   "cell_type": "code",
   "execution_count": 135,
   "metadata": {},
   "outputs": [
    {
     "name": "stdout",
     "output_type": "stream",
     "text": [
      "Index(['id_usuario', 'id_item', 'recomendación', 'analisis_de_sentimientos'], dtype='object')\n"
     ]
    }
   ],
   "source": [
    "dfprueba = pd.read_parquet('random_sample_reviews.parquet')\n",
    "\n",
    "# Mostrar los nombres de las columnas\n",
    "print(dfprueba.columns)"
   ]
  }
 ],
 "metadata": {
  "kernelspec": {
   "display_name": "venv",
   "language": "python",
   "name": "python3"
  },
  "language_info": {
   "codemirror_mode": {
    "name": "ipython",
    "version": 3
   },
   "file_extension": ".py",
   "mimetype": "text/x-python",
   "name": "python",
   "nbconvert_exporter": "python",
   "pygments_lexer": "ipython3",
   "version": "3.12.4"
  }
 },
 "nbformat": 4,
 "nbformat_minor": 2
}
