{
 "cells": [
  {
   "cell_type": "markdown",
   "metadata": {},
   "source": [
    "# ETL Steam Games"
   ]
  },
  {
   "cell_type": "markdown",
   "metadata": {},
   "source": [
    "Importamos las librerias que utilizaremos en esta etapa del proyecto."
   ]
  },
  {
   "cell_type": "code",
   "execution_count": 86,
   "metadata": {},
   "outputs": [],
   "source": [
    "import pandas as pd\n",
    "import numpy as np"
   ]
  },
  {
   "cell_type": "markdown",
   "metadata": {},
   "source": [
    "## Extracción de Datos:\n",
    "\n",
    "Hemos comenzado descomprimiendo los archivos json.gz con WinRAR, haciendo que los datos estén listos para su procesamiento en VS Code. Luego lo cargo en un DataFrame para su uso posterior."
   ]
  },
  {
   "cell_type": "code",
   "execution_count": 87,
   "metadata": {},
   "outputs": [],
   "source": [
    "df_game = pd.read_json('output_steam_games.json',lines=True)"
   ]
  },
  {
   "cell_type": "code",
   "execution_count": 88,
   "metadata": {},
   "outputs": [
    {
     "data": {
      "text/html": [
       "<div>\n",
       "<style scoped>\n",
       "    .dataframe tbody tr th:only-of-type {\n",
       "        vertical-align: middle;\n",
       "    }\n",
       "\n",
       "    .dataframe tbody tr th {\n",
       "        vertical-align: top;\n",
       "    }\n",
       "\n",
       "    .dataframe thead th {\n",
       "        text-align: right;\n",
       "    }\n",
       "</style>\n",
       "<table border=\"1\" class=\"dataframe\">\n",
       "  <thead>\n",
       "    <tr style=\"text-align: right;\">\n",
       "      <th></th>\n",
       "      <th>publisher</th>\n",
       "      <th>genres</th>\n",
       "      <th>app_name</th>\n",
       "      <th>title</th>\n",
       "      <th>url</th>\n",
       "      <th>release_date</th>\n",
       "      <th>tags</th>\n",
       "      <th>reviews_url</th>\n",
       "      <th>specs</th>\n",
       "      <th>price</th>\n",
       "      <th>early_access</th>\n",
       "      <th>id</th>\n",
       "      <th>developer</th>\n",
       "    </tr>\n",
       "  </thead>\n",
       "  <tbody>\n",
       "    <tr>\n",
       "      <th>0</th>\n",
       "      <td>None</td>\n",
       "      <td>None</td>\n",
       "      <td>None</td>\n",
       "      <td>None</td>\n",
       "      <td>None</td>\n",
       "      <td>None</td>\n",
       "      <td>None</td>\n",
       "      <td>None</td>\n",
       "      <td>None</td>\n",
       "      <td>None</td>\n",
       "      <td>NaN</td>\n",
       "      <td>NaN</td>\n",
       "      <td>None</td>\n",
       "    </tr>\n",
       "    <tr>\n",
       "      <th>1</th>\n",
       "      <td>None</td>\n",
       "      <td>None</td>\n",
       "      <td>None</td>\n",
       "      <td>None</td>\n",
       "      <td>None</td>\n",
       "      <td>None</td>\n",
       "      <td>None</td>\n",
       "      <td>None</td>\n",
       "      <td>None</td>\n",
       "      <td>None</td>\n",
       "      <td>NaN</td>\n",
       "      <td>NaN</td>\n",
       "      <td>None</td>\n",
       "    </tr>\n",
       "    <tr>\n",
       "      <th>2</th>\n",
       "      <td>None</td>\n",
       "      <td>None</td>\n",
       "      <td>None</td>\n",
       "      <td>None</td>\n",
       "      <td>None</td>\n",
       "      <td>None</td>\n",
       "      <td>None</td>\n",
       "      <td>None</td>\n",
       "      <td>None</td>\n",
       "      <td>None</td>\n",
       "      <td>NaN</td>\n",
       "      <td>NaN</td>\n",
       "      <td>None</td>\n",
       "    </tr>\n",
       "    <tr>\n",
       "      <th>3</th>\n",
       "      <td>None</td>\n",
       "      <td>None</td>\n",
       "      <td>None</td>\n",
       "      <td>None</td>\n",
       "      <td>None</td>\n",
       "      <td>None</td>\n",
       "      <td>None</td>\n",
       "      <td>None</td>\n",
       "      <td>None</td>\n",
       "      <td>None</td>\n",
       "      <td>NaN</td>\n",
       "      <td>NaN</td>\n",
       "      <td>None</td>\n",
       "    </tr>\n",
       "    <tr>\n",
       "      <th>4</th>\n",
       "      <td>None</td>\n",
       "      <td>None</td>\n",
       "      <td>None</td>\n",
       "      <td>None</td>\n",
       "      <td>None</td>\n",
       "      <td>None</td>\n",
       "      <td>None</td>\n",
       "      <td>None</td>\n",
       "      <td>None</td>\n",
       "      <td>None</td>\n",
       "      <td>NaN</td>\n",
       "      <td>NaN</td>\n",
       "      <td>None</td>\n",
       "    </tr>\n",
       "    <tr>\n",
       "      <th>...</th>\n",
       "      <td>...</td>\n",
       "      <td>...</td>\n",
       "      <td>...</td>\n",
       "      <td>...</td>\n",
       "      <td>...</td>\n",
       "      <td>...</td>\n",
       "      <td>...</td>\n",
       "      <td>...</td>\n",
       "      <td>...</td>\n",
       "      <td>...</td>\n",
       "      <td>...</td>\n",
       "      <td>...</td>\n",
       "      <td>...</td>\n",
       "    </tr>\n",
       "    <tr>\n",
       "      <th>120440</th>\n",
       "      <td>Ghost_RUS Games</td>\n",
       "      <td>[Casual, Indie, Simulation, Strategy]</td>\n",
       "      <td>Colony On Mars</td>\n",
       "      <td>Colony On Mars</td>\n",
       "      <td>http://store.steampowered.com/app/773640/Colon...</td>\n",
       "      <td>2018-01-04</td>\n",
       "      <td>[Strategy, Indie, Casual, Simulation]</td>\n",
       "      <td>http://steamcommunity.com/app/773640/reviews/?...</td>\n",
       "      <td>[Single-player, Steam Achievements]</td>\n",
       "      <td>1.99</td>\n",
       "      <td>0.0</td>\n",
       "      <td>773640.0</td>\n",
       "      <td>Nikita \"Ghost_RUS\"</td>\n",
       "    </tr>\n",
       "    <tr>\n",
       "      <th>120441</th>\n",
       "      <td>Sacada</td>\n",
       "      <td>[Casual, Indie, Strategy]</td>\n",
       "      <td>LOGistICAL: South Africa</td>\n",
       "      <td>LOGistICAL: South Africa</td>\n",
       "      <td>http://store.steampowered.com/app/733530/LOGis...</td>\n",
       "      <td>2018-01-04</td>\n",
       "      <td>[Strategy, Indie, Casual]</td>\n",
       "      <td>http://steamcommunity.com/app/733530/reviews/?...</td>\n",
       "      <td>[Single-player, Steam Achievements, Steam Clou...</td>\n",
       "      <td>4.99</td>\n",
       "      <td>0.0</td>\n",
       "      <td>733530.0</td>\n",
       "      <td>Sacada</td>\n",
       "    </tr>\n",
       "    <tr>\n",
       "      <th>120442</th>\n",
       "      <td>Laush Studio</td>\n",
       "      <td>[Indie, Racing, Simulation]</td>\n",
       "      <td>Russian Roads</td>\n",
       "      <td>Russian Roads</td>\n",
       "      <td>http://store.steampowered.com/app/610660/Russi...</td>\n",
       "      <td>2018-01-04</td>\n",
       "      <td>[Indie, Simulation, Racing]</td>\n",
       "      <td>http://steamcommunity.com/app/610660/reviews/?...</td>\n",
       "      <td>[Single-player, Steam Achievements, Steam Trad...</td>\n",
       "      <td>1.99</td>\n",
       "      <td>0.0</td>\n",
       "      <td>610660.0</td>\n",
       "      <td>Laush Dmitriy Sergeevich</td>\n",
       "    </tr>\n",
       "    <tr>\n",
       "      <th>120443</th>\n",
       "      <td>SIXNAILS</td>\n",
       "      <td>[Casual, Indie]</td>\n",
       "      <td>EXIT 2 - Directions</td>\n",
       "      <td>EXIT 2 - Directions</td>\n",
       "      <td>http://store.steampowered.com/app/658870/EXIT_...</td>\n",
       "      <td>2017-09-02</td>\n",
       "      <td>[Indie, Casual, Puzzle, Singleplayer, Atmosphe...</td>\n",
       "      <td>http://steamcommunity.com/app/658870/reviews/?...</td>\n",
       "      <td>[Single-player, Steam Achievements, Steam Cloud]</td>\n",
       "      <td>4.99</td>\n",
       "      <td>0.0</td>\n",
       "      <td>658870.0</td>\n",
       "      <td>xropi,stev3ns</td>\n",
       "    </tr>\n",
       "    <tr>\n",
       "      <th>120444</th>\n",
       "      <td>None</td>\n",
       "      <td>None</td>\n",
       "      <td>Maze Run VR</td>\n",
       "      <td>None</td>\n",
       "      <td>http://store.steampowered.com/app/681550/Maze_...</td>\n",
       "      <td>None</td>\n",
       "      <td>[Early Access, Adventure, Indie, Action, Simul...</td>\n",
       "      <td>http://steamcommunity.com/app/681550/reviews/?...</td>\n",
       "      <td>[Single-player, Stats, Steam Leaderboards, HTC...</td>\n",
       "      <td>4.99</td>\n",
       "      <td>1.0</td>\n",
       "      <td>681550.0</td>\n",
       "      <td>None</td>\n",
       "    </tr>\n",
       "  </tbody>\n",
       "</table>\n",
       "<p>120445 rows × 13 columns</p>\n",
       "</div>"
      ],
      "text/plain": [
       "              publisher                                 genres  \\\n",
       "0                  None                                   None   \n",
       "1                  None                                   None   \n",
       "2                  None                                   None   \n",
       "3                  None                                   None   \n",
       "4                  None                                   None   \n",
       "...                 ...                                    ...   \n",
       "120440  Ghost_RUS Games  [Casual, Indie, Simulation, Strategy]   \n",
       "120441           Sacada              [Casual, Indie, Strategy]   \n",
       "120442     Laush Studio            [Indie, Racing, Simulation]   \n",
       "120443         SIXNAILS                        [Casual, Indie]   \n",
       "120444             None                                   None   \n",
       "\n",
       "                        app_name                     title  \\\n",
       "0                           None                      None   \n",
       "1                           None                      None   \n",
       "2                           None                      None   \n",
       "3                           None                      None   \n",
       "4                           None                      None   \n",
       "...                          ...                       ...   \n",
       "120440            Colony On Mars            Colony On Mars   \n",
       "120441  LOGistICAL: South Africa  LOGistICAL: South Africa   \n",
       "120442             Russian Roads             Russian Roads   \n",
       "120443       EXIT 2 - Directions       EXIT 2 - Directions   \n",
       "120444               Maze Run VR                      None   \n",
       "\n",
       "                                                      url release_date  \\\n",
       "0                                                    None         None   \n",
       "1                                                    None         None   \n",
       "2                                                    None         None   \n",
       "3                                                    None         None   \n",
       "4                                                    None         None   \n",
       "...                                                   ...          ...   \n",
       "120440  http://store.steampowered.com/app/773640/Colon...   2018-01-04   \n",
       "120441  http://store.steampowered.com/app/733530/LOGis...   2018-01-04   \n",
       "120442  http://store.steampowered.com/app/610660/Russi...   2018-01-04   \n",
       "120443  http://store.steampowered.com/app/658870/EXIT_...   2017-09-02   \n",
       "120444  http://store.steampowered.com/app/681550/Maze_...         None   \n",
       "\n",
       "                                                     tags  \\\n",
       "0                                                    None   \n",
       "1                                                    None   \n",
       "2                                                    None   \n",
       "3                                                    None   \n",
       "4                                                    None   \n",
       "...                                                   ...   \n",
       "120440              [Strategy, Indie, Casual, Simulation]   \n",
       "120441                          [Strategy, Indie, Casual]   \n",
       "120442                        [Indie, Simulation, Racing]   \n",
       "120443  [Indie, Casual, Puzzle, Singleplayer, Atmosphe...   \n",
       "120444  [Early Access, Adventure, Indie, Action, Simul...   \n",
       "\n",
       "                                              reviews_url  \\\n",
       "0                                                    None   \n",
       "1                                                    None   \n",
       "2                                                    None   \n",
       "3                                                    None   \n",
       "4                                                    None   \n",
       "...                                                   ...   \n",
       "120440  http://steamcommunity.com/app/773640/reviews/?...   \n",
       "120441  http://steamcommunity.com/app/733530/reviews/?...   \n",
       "120442  http://steamcommunity.com/app/610660/reviews/?...   \n",
       "120443  http://steamcommunity.com/app/658870/reviews/?...   \n",
       "120444  http://steamcommunity.com/app/681550/reviews/?...   \n",
       "\n",
       "                                                    specs price  early_access  \\\n",
       "0                                                    None  None           NaN   \n",
       "1                                                    None  None           NaN   \n",
       "2                                                    None  None           NaN   \n",
       "3                                                    None  None           NaN   \n",
       "4                                                    None  None           NaN   \n",
       "...                                                   ...   ...           ...   \n",
       "120440                [Single-player, Steam Achievements]  1.99           0.0   \n",
       "120441  [Single-player, Steam Achievements, Steam Clou...  4.99           0.0   \n",
       "120442  [Single-player, Steam Achievements, Steam Trad...  1.99           0.0   \n",
       "120443   [Single-player, Steam Achievements, Steam Cloud]  4.99           0.0   \n",
       "120444  [Single-player, Stats, Steam Leaderboards, HTC...  4.99           1.0   \n",
       "\n",
       "              id                 developer  \n",
       "0            NaN                      None  \n",
       "1            NaN                      None  \n",
       "2            NaN                      None  \n",
       "3            NaN                      None  \n",
       "4            NaN                      None  \n",
       "...          ...                       ...  \n",
       "120440  773640.0        Nikita \"Ghost_RUS\"  \n",
       "120441  733530.0                    Sacada  \n",
       "120442  610660.0  Laush Dmitriy Sergeevich  \n",
       "120443  658870.0             xropi,stev3ns  \n",
       "120444  681550.0                      None  \n",
       "\n",
       "[120445 rows x 13 columns]"
      ]
     },
     "execution_count": 88,
     "metadata": {},
     "output_type": "execute_result"
    }
   ],
   "source": [
    "df_game"
   ]
  },
  {
   "cell_type": "code",
   "execution_count": 89,
   "metadata": {},
   "outputs": [
    {
     "name": "stdout",
     "output_type": "stream",
     "text": [
      "<class 'pandas.core.frame.DataFrame'>\n",
      "RangeIndex: 120445 entries, 0 to 120444\n",
      "Data columns (total 13 columns):\n",
      " #   Column        Non-Null Count  Dtype  \n",
      "---  ------        --------------  -----  \n",
      " 0   publisher     24083 non-null  object \n",
      " 1   genres        28852 non-null  object \n",
      " 2   app_name      32133 non-null  object \n",
      " 3   title         30085 non-null  object \n",
      " 4   url           32135 non-null  object \n",
      " 5   release_date  30068 non-null  object \n",
      " 6   tags          31972 non-null  object \n",
      " 7   reviews_url   32133 non-null  object \n",
      " 8   specs         31465 non-null  object \n",
      " 9   price         30758 non-null  object \n",
      " 10  early_access  32135 non-null  float64\n",
      " 11  id            32133 non-null  float64\n",
      " 12  developer     28836 non-null  object \n",
      "dtypes: float64(2), object(11)\n",
      "memory usage: 11.9+ MB\n"
     ]
    }
   ],
   "source": [
    "df_game.info()"
   ]
  },
  {
   "cell_type": "markdown",
   "metadata": {},
   "source": [
    "## Transformación de Datos:\n",
    "\n",
    "En segundo lugar, continuamos con la transformación. Esta consiste en limpiar, modificar y preparar los datos para su uso posterior. Eso incluye eliminar datos nulos, convertir tipos de datos, normalizar columnas, desanidar listas, etc."
   ]
  },
  {
   "cell_type": "markdown",
   "metadata": {},
   "source": [
    "### DATOS NULOS y COLUMNAS IRRELEVANTES"
   ]
  },
  {
   "cell_type": "markdown",
   "metadata": {},
   "source": [
    "Ahora que se la magnitud del dataset empiezo a depurarlo. En primer lugar voy a cheuqear si hay o no **id** que tengan **valor nulo**, dado que eso me podria traer problemas al relacionar mis datos con los otros dataset. De existir **id** sin valor, entonces eliminaria esas filas."
   ]
  },
  {
   "cell_type": "code",
   "execution_count": 90,
   "metadata": {},
   "outputs": [
    {
     "name": "stdout",
     "output_type": "stream",
     "text": [
      "El dataset tiene 88312 filas sin el dato id\n",
      "El nuevo dataset tiene 32133 filas.\n"
     ]
    }
   ],
   "source": [
    "id_null = df_game['id'].isnull().sum()\n",
    "print(f'El dataset tiene {id_null} filas sin el dato id')\n",
    "\n",
    "if id_null > 0:\n",
    "    df_game2 = df_game.dropna(subset=['id'])\n",
    "    print(f'El nuevo dataset tiene {df_game2.shape[0]} filas.')\n"
   ]
  },
  {
   "cell_type": "markdown",
   "metadata": {},
   "source": [
    "A grandes rasgos notamos  en el DataFrame original (dfgame) que al pedir la información, hay una gran cantidad de valores nulos. Eso se desprende de ver la cantidad de filas (120.445), y que en cada una de las columnas los valores no nulos llegan a ser como mucho un cuarto del total. Y al eliminar las filas con id nulo probablemente eliminamos tambien las filas en donde todos los datos de la fila son nulos, dado que pueden existir filas con **id** con **valor nulo** pero toda fila que tenga **todos** sus campos con **valor nulo** tendrá indefectiblemente **id** con **valor nulo** y por ende ya quedan eliminados en el nuevo dataframe. Por ello para seguir reduciendo el tamaño del dataframe, ahora eliminaremos las columnas irrelevantes para nuestro proyecto."
   ]
  },
  {
   "cell_type": "code",
   "execution_count": 91,
   "metadata": {},
   "outputs": [],
   "source": [
    "columns_relevant = ['id', 'genres', 'release_date', 'price', 'developer']\n",
    "df_game3 = df_game2[columns_relevant]\n"
   ]
  },
  {
   "cell_type": "code",
   "execution_count": 92,
   "metadata": {},
   "outputs": [
    {
     "name": "stdout",
     "output_type": "stream",
     "text": [
      "<class 'pandas.core.frame.DataFrame'>\n",
      "Index: 32133 entries, 88310 to 120444\n",
      "Data columns (total 5 columns):\n",
      " #   Column        Non-Null Count  Dtype  \n",
      "---  ------        --------------  -----  \n",
      " 0   id            32133 non-null  float64\n",
      " 1   genres        28851 non-null  object \n",
      " 2   release_date  30067 non-null  object \n",
      " 3   price         30756 non-null  object \n",
      " 4   developer     28835 non-null  object \n",
      "dtypes: float64(1), object(4)\n",
      "memory usage: 1.5+ MB\n"
     ]
    }
   ],
   "source": [
    "df_game3.info()"
   ]
  },
  {
   "cell_type": "markdown",
   "metadata": {},
   "source": [
    "En esta oportunidad revisare si hay filas cuyo **id** este presente pero que el **resto de los campos** en las columnas que me interesa conservar para luego desarrollar mis endpoints esten **todos nulos**."
   ]
  },
  {
   "cell_type": "code",
   "execution_count": 93,
   "metadata": {},
   "outputs": [
    {
     "name": "stdout",
     "output_type": "stream",
     "text": [
      "El dataset tiene 116 filas con solo el dato id y el resto de campos con valor nulo\n",
      "El nuevo dataset tiene 32017 filas.\n"
     ]
    }
   ],
   "source": [
    "columns_without_id = [col for col in df_game3.columns if col != 'id']\n",
    "rows_null_with_id = df_game3[columns_without_id].isnull().all(axis=1).sum()\n",
    "print(f'El dataset tiene {rows_null_with_id} filas con solo el dato id y el resto de campos con valor nulo')\n",
    "if rows_null_with_id > 0:\n",
    "    df_game4 = df_game3.dropna(subset=columns_without_id, how='all')\n",
    "    print(f'El nuevo dataset tiene {df_game4.shape[0]} filas.')"
   ]
  },
  {
   "cell_type": "code",
   "execution_count": 94,
   "metadata": {},
   "outputs": [
    {
     "name": "stdout",
     "output_type": "stream",
     "text": [
      "<class 'pandas.core.frame.DataFrame'>\n",
      "Index: 32017 entries, 88310 to 120444\n",
      "Data columns (total 5 columns):\n",
      " #   Column        Non-Null Count  Dtype  \n",
      "---  ------        --------------  -----  \n",
      " 0   id            32017 non-null  float64\n",
      " 1   genres        28851 non-null  object \n",
      " 2   release_date  30067 non-null  object \n",
      " 3   price         30756 non-null  object \n",
      " 4   developer     28835 non-null  object \n",
      "dtypes: float64(1), object(4)\n",
      "memory usage: 1.5+ MB\n"
     ]
    }
   ],
   "source": [
    "df_game4.info()"
   ]
  },
  {
   "cell_type": "markdown",
   "metadata": {},
   "source": [
    "### DATOS DUPLICADOS"
   ]
  },
  {
   "cell_type": "markdown",
   "metadata": {},
   "source": [
    "A continuación revisamos si hay **datos duplicados**. Empezaremos por los id, dado que deben ser únicos. Y a contnuación chequeamos si hay filas que aún con id diferente comparten misma data en todo elresto de sus campos (eso podria deberse a error humano de dobles cargas por ejemplo)"
   ]
  },
  {
   "cell_type": "code",
   "execution_count": 95,
   "metadata": {},
   "outputs": [
    {
     "name": "stdout",
     "output_type": "stream",
     "text": [
      "<class 'pandas.core.frame.DataFrame'>\n",
      "Index: 32016 entries, 88310 to 120444\n",
      "Data columns (total 5 columns):\n",
      " #   Column        Non-Null Count  Dtype  \n",
      "---  ------        --------------  -----  \n",
      " 0   id            32016 non-null  float64\n",
      " 1   genres        28850 non-null  object \n",
      " 2   release_date  30066 non-null  object \n",
      " 3   price         30755 non-null  object \n",
      " 4   developer     28834 non-null  object \n",
      "dtypes: float64(1), object(4)\n",
      "memory usage: 1.5+ MB\n"
     ]
    }
   ],
   "source": [
    "df_game5 = df_game4.drop_duplicates(subset=['id'])\n",
    "df_game5.info()"
   ]
  },
  {
   "cell_type": "code",
   "execution_count": 96,
   "metadata": {},
   "outputs": [
    {
     "name": "stdout",
     "output_type": "stream",
     "text": [
      "El nuevo dataset tiene 32016 filas. Es decir lo mismo que el datset anterior, por ende no se justifica usar este nuevo.\n"
     ]
    }
   ],
   "source": [
    "key_columns = ['id', 'release_date', 'developer']\n",
    "df_game6 = df_game5.drop_duplicates(subset=key_columns)\n",
    "print(f'El nuevo dataset tiene {df_game6.shape[0]} filas. Es decir lo mismo que el datset anterior, por ende no se justifica usar este nuevo.')\n"
   ]
  },
  {
   "cell_type": "markdown",
   "metadata": {},
   "source": [
    "### CALIDAD DE DATOS"
   ]
  },
  {
   "cell_type": "code",
   "execution_count": 97,
   "metadata": {},
   "outputs": [
    {
     "data": {
      "text/plain": [
       "id              float64\n",
       "genres           object\n",
       "release_date     object\n",
       "price            object\n",
       "developer        object\n",
       "dtype: object"
      ]
     },
     "execution_count": 97,
     "metadata": {},
     "output_type": "execute_result"
    }
   ],
   "source": [
    "df_game5.dtypes"
   ]
  },
  {
   "cell_type": "markdown",
   "metadata": {},
   "source": [
    "A primera vista, podemos observar que hay datos que conviene convertir para tabajar con ellos, como ser la fecha, el id o ep precio. Iremos paso a paso."
   ]
  },
  {
   "cell_type": "markdown",
   "metadata": {},
   "source": [
    "**title**, **genres** y **developer** son object y no deben ser modificados para nuestros proyecto.           "
   ]
  },
  {
   "cell_type": "markdown",
   "metadata": {},
   "source": [
    "**id**: lo covertiremos de float a int dado que al ser valores únicos se trata de un valor discreto (indivisible y no fraccionado)."
   ]
  },
  {
   "cell_type": "code",
   "execution_count": 98,
   "metadata": {},
   "outputs": [
    {
     "data": {
      "text/plain": [
       "id               Int32\n",
       "genres          object\n",
       "release_date    object\n",
       "price           object\n",
       "developer       object\n",
       "dtype: object"
      ]
     },
     "execution_count": 98,
     "metadata": {},
     "output_type": "execute_result"
    }
   ],
   "source": [
    "\n",
    "# Asegurar que 'id' esté en formato int32 correctamente\n",
    "df_game5 = df_game5.copy()  # Crear una copia para evitar el SettingWithCopyWarning\n",
    "df_game5['id'] = df_game5['id'].astype('Int32')\n",
    "df_game5.dtypes"
   ]
  },
  {
   "cell_type": "code",
   "execution_count": 99,
   "metadata": {},
   "outputs": [
    {
     "name": "stdout",
     "output_type": "stream",
     "text": [
      "<class 'pandas.core.frame.DataFrame'>\n",
      "Index: 32016 entries, 88310 to 120444\n",
      "Data columns (total 5 columns):\n",
      " #   Column        Non-Null Count  Dtype \n",
      "---  ------        --------------  ----- \n",
      " 0   id            32016 non-null  Int32 \n",
      " 1   genres        28850 non-null  object\n",
      " 2   release_date  30066 non-null  object\n",
      " 3   price         30755 non-null  object\n",
      " 4   developer     28834 non-null  object\n",
      "dtypes: Int32(1), object(4)\n",
      "memory usage: 1.4+ MB\n"
     ]
    }
   ],
   "source": [
    "df_game5.info()"
   ]
  },
  {
   "cell_type": "markdown",
   "metadata": {},
   "source": [
    "**release_date**: lo convertimos de object a date, pero primero debemos realizar ciertos pasos extras"
   ]
  },
  {
   "cell_type": "code",
   "execution_count": 100,
   "metadata": {},
   "outputs": [
    {
     "name": "stdout",
     "output_type": "stream",
     "text": [
      "<class 'pandas.core.frame.DataFrame'>\n",
      "Index: 32016 entries, 88310 to 120444\n",
      "Data columns (total 5 columns):\n",
      " #   Column        Non-Null Count  Dtype \n",
      "---  ------        --------------  ----- \n",
      " 0   id            32016 non-null  Int32 \n",
      " 1   genres        28850 non-null  object\n",
      " 2   release_date  29965 non-null  Int32 \n",
      " 3   price         30755 non-null  object\n",
      " 4   developer     28834 non-null  object\n",
      "dtypes: Int32(2), object(3)\n",
      "memory usage: 1.3+ MB\n",
      "None\n"
     ]
    }
   ],
   "source": [
    "import re\n",
    "\n",
    "# Definir el patrón de búsqueda y la función para extraer el año\n",
    "digits = r'(\\d{4})' \n",
    "\n",
    "def year(string: str) -> str | None:\n",
    "    num = re.search(digits, str(string))\n",
    "    if num:\n",
    "        return num.group(1)\n",
    "    else:\n",
    "        return None\n",
    "# Remplazamos release date por el valor del año correspondiente en cadena y luego en la segunda linea lo convertimos en int32 (un numero entero discreto)\n",
    "df_game5['release_date'] = df_game5['release_date'].apply(year)\n",
    "\n",
    "df_game5['release_date'] = pd.to_numeric(df_game5['release_date'], errors='coerce').astype('Int32')\n",
    "print(df_game5.info())\n"
   ]
  },
  {
   "cell_type": "code",
   "execution_count": 101,
   "metadata": {},
   "outputs": [
    {
     "name": "stdout",
     "output_type": "stream",
     "text": [
      "Los años que figuran en la lista son: <IntegerArray>\n",
      "[2018, 2017, <NA>, 1997, 1998, 2016, 2006, 2005, 2003, 2007, 2002, 2000, 1995,\n",
      " 1996, 1994, 2001, 1993, 2004, 1999, 2008, 2009, 1992, 1989, 2010, 2011, 2013,\n",
      " 2012, 2014, 1983, 1984, 2015, 1990, 1988, 1991, 1985, 1982, 1987, 1981, 1986,\n",
      " 2021, 5275, 2019, 1975, 1970, 1980]\n",
      "Length: 45, dtype: Int32\n",
      "Cantidad de valores nulos en la columna 'release_date': 2051\n"
     ]
    }
   ],
   "source": [
    "years_table = df_game5['release_date'].unique()\n",
    "print(\"Los años que figuran en la lista son:\", years_table)\n",
    "\n",
    "year_null = df_game5['release_date'].isna().sum()\n",
    "print(\"Cantidad de valores nulos en la columna 'release_date':\", year_null)"
   ]
  },
  {
   "cell_type": "code",
   "execution_count": 102,
   "metadata": {},
   "outputs": [
    {
     "name": "stdout",
     "output_type": "stream",
     "text": [
      "            id                         genres  release_date price developer\n",
      "101738  710190  [Casual, Indie, Early Access]          5275  None    一次元创作组\n"
     ]
    }
   ],
   "source": [
    "# Identificamos cuantos y en que filas estan los valores de año 5275, dado que es un año que no ha ocurrido aún.\n",
    "year_5275 = df_game5[df_game5['release_date'] == 5275]\n",
    "\n",
    "print(year_5275)"
   ]
  },
  {
   "cell_type": "code",
   "execution_count": 103,
   "metadata": {},
   "outputs": [
    {
     "name": "stdout",
     "output_type": "stream",
     "text": [
      "<class 'pandas.core.frame.DataFrame'>\n",
      "Index: 32015 entries, 88310 to 120444\n",
      "Data columns (total 5 columns):\n",
      " #   Column        Non-Null Count  Dtype \n",
      "---  ------        --------------  ----- \n",
      " 0   id            32015 non-null  Int32 \n",
      " 1   genres        28849 non-null  object\n",
      " 2   release_date  29964 non-null  Int32 \n",
      " 3   price         30755 non-null  object\n",
      " 4   developer     28833 non-null  object\n",
      "dtypes: Int32(2), object(3)\n",
      "memory usage: 1.3+ MB\n",
      "None\n",
      "Los años que figuran en la lista son: <IntegerArray>\n",
      "[2018, 2017, <NA>, 1997, 1998, 2016, 2006, 2005, 2003, 2007, 2002, 2000, 1995,\n",
      " 1996, 1994, 2001, 1993, 2004, 1999, 2008, 2009, 1992, 1989, 2010, 2011, 2013,\n",
      " 2012, 2014, 1983, 1984, 2015, 1990, 1988, 1991, 1985, 1982, 1987, 1981, 1986,\n",
      " 2021, 2019, 1975, 1970, 1980]\n",
      "Length: 44, dtype: Int32\n"
     ]
    }
   ],
   "source": [
    "# Procedemos a eliminar el dato para que no modifique radicalmente nuestras estadisticas, siendo que probablemente se trate de un error, y al ser un solo se justifica su eliminación.\n",
    "df_game7 = df_game5.drop(101738)\n",
    "print(df_game7.info())\n",
    "years_table2 = df_game7['release_date'].unique()\n",
    "print(\"Los años que figuran en la lista son:\", years_table2)"
   ]
  },
  {
   "cell_type": "markdown",
   "metadata": {},
   "source": [
    "**price**: lo convertimos de object a float dado que se trata de un tipo de dato continuo y por ende es el formato más adecuado."
   ]
  },
  {
   "cell_type": "markdown",
   "metadata": {},
   "source": [
    "Dado que uno de los endpoints a desarrollar (developer) menciona que existe un porcentaje de contenido Free  y al chequear el dicionario de Datos STEAM efectivamente figura más de una categoría con aquella palabra, entendemos que si queremos convertir a la categoría price en float, deberemos pasar los datos que expresen Free a un valor númerico, que en este caso sería su equivalente: 0."
   ]
  },
  {
   "cell_type": "code",
   "execution_count": 104,
   "metadata": {},
   "outputs": [
    {
     "name": "stdout",
     "output_type": "stream",
     "text": [
      "Total de valores nulos en 'price': 1260\n",
      "Valores no numéricos detallados en 'price':\n",
      "price\n",
      "Free                             905\n",
      "Free to Play                     520\n",
      "Free To Play                     462\n",
      "Free Mod                           4\n",
      "Free Demo                          3\n",
      "Play for Free!                     2\n",
      "Third-party                        2\n",
      "Play Now                           2\n",
      "Play WARMACHINE: Tactics Demo      1\n",
      "Install Now                        1\n",
      "Install Theme                      1\n",
      "Free HITMAN™ Holiday Pack          1\n",
      "Play the Demo                      1\n",
      "Starting at $499.00                1\n",
      "Starting at $449.00                1\n",
      "Free to Try                        1\n",
      "Free Movie                         1\n",
      "Free to Use                        1\n",
      "Name: count, dtype: int64\n"
     ]
    }
   ],
   "source": [
    "# Contar valores nulos en la columna 'price'\n",
    "price_null = df_game7['price'].isna().sum()\n",
    "print(f\"Total de valores nulos en 'price': {price_null}\")\n",
    "\n",
    "# Conteo de valores no numéricos en la columna price\n",
    "no_num_value = df_game7['price'][~df_game7['price'].apply(pd.to_numeric, errors='coerce').notnull()]\n",
    "total_types_no_num = no_num_value.value_counts()\n",
    "print(\"Valores no numéricos detallados en 'price':\")\n",
    "print(total_types_no_num)"
   ]
  },
  {
   "cell_type": "code",
   "execution_count": 105,
   "metadata": {},
   "outputs": [
    {
     "name": "stdout",
     "output_type": "stream",
     "text": [
      "Mediana de 'price': 4.99\n",
      "float64\n"
     ]
    }
   ],
   "source": [
    "# Convertir valores no numéricos 'Free' a '0'\n",
    "df_game7['price'] = df_game7['price'].replace(to_replace=r'Free.*', value='0', regex=True)\n",
    "df_game7['price'] = df_game7['price'].replace('Free HITMAN™ Holiday Pack', '0')\n",
    "\n",
    "# Reemplazar valores no numéricos específicos\n",
    "df_game7['price'] = df_game7['price'].replace('Play Now', '0')\n",
    "df_game7['price'] = df_game7['price'].replace('Starting at $499.00', '499.00')\n",
    "df_game7['price'] = df_game7['price'].replace('Starting at $449.00', '449.00')\n",
    "\n",
    "# Convertir valores no numéricos restantes a NaN\n",
    "df_game7['price'] = df_game7['price'].replace(['Play WARMACHINE: Tactics Demo', 'Install Now', 'Install Theme', 'Play the Demo', 'Third-party'], pd.NA)\n",
    "\n",
    "# Convertir 'price' a numérico\n",
    "df_game7['price'] = pd.to_numeric(df_game7['price'], errors='coerce')\n",
    "\n",
    "# Calcular y reemplazar nulos con la mediana de 'price' para que así no afecten luego en el endpoint developers\n",
    "median_price = df_game7['price'].median()\n",
    "df_game7['price'] = df_game7['price'].fillna(median_price)\n",
    "\n",
    "# Verificar la conversión\n",
    "print(f\"Mediana de 'price': {median_price}\")\n",
    "print(df_game7['price'].dtypes)\n"
   ]
  },
  {
   "cell_type": "code",
   "execution_count": 106,
   "metadata": {},
   "outputs": [
    {
     "name": "stdout",
     "output_type": "stream",
     "text": [
      "<class 'pandas.core.frame.DataFrame'>\n",
      "Index: 32015 entries, 88310 to 120444\n",
      "Data columns (total 5 columns):\n",
      " #   Column        Non-Null Count  Dtype  \n",
      "---  ------        --------------  -----  \n",
      " 0   id            32015 non-null  Int32  \n",
      " 1   genres        28849 non-null  object \n",
      " 2   release_date  29964 non-null  Int32  \n",
      " 3   price         32015 non-null  float64\n",
      " 4   developer     28833 non-null  object \n",
      "dtypes: Int32(2), float64(1), object(2)\n",
      "memory usage: 1.3+ MB\n"
     ]
    }
   ],
   "source": [
    "df_game7.info()"
   ]
  },
  {
   "cell_type": "code",
   "execution_count": 107,
   "metadata": {},
   "outputs": [
    {
     "data": {
      "text/plain": [
       "array([4.9900e+00, 0.0000e+00, 9.9000e-01, 2.9900e+00, 3.9900e+00,\n",
       "       9.9900e+00, 1.8990e+01, 2.9990e+01, 1.0990e+01, 1.5900e+00,\n",
       "       1.4990e+01, 1.9900e+00, 5.9990e+01, 8.9900e+00, 6.9900e+00,\n",
       "       7.9900e+00, 3.9990e+01, 1.9990e+01, 7.4900e+00, 1.2990e+01,\n",
       "       5.9900e+00, 2.4900e+00, 1.5990e+01, 1.2500e+00, 2.4990e+01,\n",
       "       1.7990e+01, 6.1990e+01, 3.4900e+00, 1.1990e+01, 1.3990e+01,\n",
       "       3.4990e+01, 7.4760e+01, 1.4900e+00, 3.2990e+01, 9.9990e+01,\n",
       "       1.4950e+01, 6.9990e+01, 1.6990e+01, 7.9990e+01, 4.9990e+01,\n",
       "       5.0000e+00, 4.4990e+01, 1.3980e+01, 2.9960e+01, 1.1999e+02,\n",
       "       1.0999e+02, 1.4999e+02, 7.7171e+02, 2.1990e+01, 8.9990e+01,\n",
       "       9.8000e-01, 1.3992e+02, 4.2900e+00, 6.4990e+01, 5.4990e+01,\n",
       "       7.4990e+01, 8.9000e-01, 5.0000e-01, 2.9999e+02, 1.2900e+00,\n",
       "       3.0000e+00, 1.5000e+01, 5.4900e+00, 2.3990e+01, 4.9000e+01,\n",
       "       2.0990e+01, 1.0930e+01, 1.3900e+00, 3.6990e+01, 4.4900e+00,\n",
       "       2.0000e+00, 4.0000e+00, 9.0000e+00, 2.3499e+02, 1.9500e+00,\n",
       "       1.5000e+00, 1.9900e+02, 1.8900e+02, 6.6600e+00, 2.7990e+01,\n",
       "       1.0490e+01, 1.2999e+02, 1.7900e+02, 2.6990e+01, 3.9999e+02,\n",
       "       3.1990e+01, 3.9900e+02, 2.0000e+01, 4.0000e+01, 3.3300e+00,\n",
       "       1.9999e+02, 2.2990e+01, 3.2000e+02, 3.8850e+01, 7.1700e+01,\n",
       "       5.9950e+01, 9.9500e+02, 2.7490e+01, 3.3900e+00, 6.0000e+00,\n",
       "       1.9950e+01, 4.9999e+02, 1.6060e+01, 4.6800e+00, 1.3140e+02,\n",
       "       4.4980e+01, 2.0276e+02, 1.0000e+00, 2.3000e+00, 9.5000e-01,\n",
       "       1.7224e+02, 2.4999e+02, 2.9700e+00, 1.0960e+01, 1.0000e+01,\n",
       "       3.0000e+01, 2.6600e+00, 6.4800e+00, 1.9290e+01, 1.1150e+01,\n",
       "       1.8900e+01, 2.8900e+00, 9.9000e+01, 8.7940e+01, 5.9900e+02,\n",
       "       8.9800e+00, 9.6900e+00, 4.9000e-01, 9.9800e+00, 9.9500e+00,\n",
       "       7.0000e+00, 4.9900e+02, 4.4900e+02, 1.2890e+01, 6.4900e+00,\n",
       "       1.8700e+00, 4.2990e+01, 4.1990e+01, 2.8999e+02, 2.3960e+01,\n",
       "       5.6500e+00, 1.2000e+01, 1.3370e+01, 1.8996e+02, 1.2499e+02,\n",
       "       1.9980e+01, 1.6091e+02])"
      ]
     },
     "execution_count": 107,
     "metadata": {},
     "output_type": "execute_result"
    }
   ],
   "source": [
    "values_of_price = df_game7['price'].unique()\n",
    "values_of_price"
   ]
  },
  {
   "cell_type": "markdown",
   "metadata": {},
   "source": [
    "**developer**: si bien no hay que modificar este dato, al analizarlo, notamos que hay varios valores NonType que modificaremos con La Palabra \"Unkown\" para que no afecte luego mi trabajo en otras instancias."
   ]
  },
  {
   "cell_type": "code",
   "execution_count": 108,
   "metadata": {},
   "outputs": [
    {
     "name": "stdout",
     "output_type": "stream",
     "text": [
      "developer\n",
      "<class 'str'>         28833\n",
      "<class 'NoneType'>     3182\n",
      "Name: count, dtype: int64\n"
     ]
    }
   ],
   "source": [
    "print(df_game7['developer'].apply(type).value_counts())\n",
    "\n"
   ]
  },
  {
   "cell_type": "code",
   "execution_count": 109,
   "metadata": {},
   "outputs": [
    {
     "name": "stdout",
     "output_type": "stream",
     "text": [
      "developer\n",
      "<class 'str'>    32015\n",
      "Name: count, dtype: int64\n"
     ]
    }
   ],
   "source": [
    "# Reemplazar valores None en 'developer' con 'Unkown'\n",
    "df_game7['developer'] = df_game7['developer'].fillna('Unkown')\n",
    "\n",
    "# Verificar que el reemplazo se ha realizado correctamente\n",
    "print(df_game7['developer'].apply(type).value_counts())\n"
   ]
  },
  {
   "cell_type": "markdown",
   "metadata": {},
   "source": [
    "**genres**: Por último, encontramos que se trata de un dato anidado, así que deberemos trabajar sobre él."
   ]
  },
  {
   "cell_type": "code",
   "execution_count": 110,
   "metadata": {},
   "outputs": [
    {
     "name": "stdout",
     "output_type": "stream",
     "text": [
      "           id        genres  release_date  price         developer\n",
      "88310  761140        Action          2018   4.99         Kotoshiro\n",
      "88310  761140        Casual          2018   4.99         Kotoshiro\n",
      "88310  761140         Indie          2018   4.99         Kotoshiro\n",
      "88310  761140    Simulation          2018   4.99         Kotoshiro\n",
      "88310  761140      Strategy          2018   4.99         Kotoshiro\n",
      "88311  643980  Free to Play          2018   0.00  Secret Level SRL\n",
      "88311  643980         Indie          2018   0.00  Secret Level SRL\n",
      "88311  643980           RPG          2018   0.00  Secret Level SRL\n",
      "88311  643980      Strategy          2018   0.00  Secret Level SRL\n",
      "88312  670290        Casual          2017   0.00      Poolians.com\n"
     ]
    }
   ],
   "source": [
    "# Desanidar la columna 'genres'\n",
    "df_game8 = df_game7.explode('genres')\n",
    "\n",
    "# Verificar el resultado de la desanidación\n",
    "print(df_game8.head(10))"
   ]
  },
  {
   "cell_type": "code",
   "execution_count": 111,
   "metadata": {},
   "outputs": [
    {
     "name": "stdout",
     "output_type": "stream",
     "text": [
      "Géneros únicos: ['Action' 'Casual' 'Indie' 'Simulation' 'Strategy' 'Free to Play' 'RPG'\n",
      " 'Sports' 'Adventure' None 'Racing' 'Early Access' 'Massively Multiplayer'\n",
      " 'Animation &amp; Modeling' 'Video Production' 'Utilities'\n",
      " 'Web Publishing' 'Education' 'Software Training'\n",
      " 'Design &amp; Illustration' 'Audio Production' 'Photo Editing'\n",
      " 'Accounting']\n"
     ]
    }
   ],
   "source": [
    "# Verificar que la columna 'genres' ahora esté desanidada correctamente\n",
    "unique_genres = df_game8['genres'].unique()\n",
    "print(f\"Géneros únicos: {unique_genres}\")"
   ]
  },
  {
   "cell_type": "code",
   "execution_count": 112,
   "metadata": {},
   "outputs": [
    {
     "name": "stdout",
     "output_type": "stream",
     "text": [
      "Géneros únicos: ['Action' 'Casual' 'Indie' 'Simulation' 'Strategy' 'Free to Play' 'RPG'\n",
      " 'Sports' 'Adventure' None 'Racing' 'Early Access' 'Massively Multiplayer'\n",
      " 'Animation and Modeling' 'Video Production' 'Utilities' 'Web Publishing'\n",
      " 'Education' 'Software Training' 'Design and Illustration'\n",
      " 'Audio Production' 'Photo Editing' 'Accounting']\n"
     ]
    }
   ],
   "source": [
    "df_game8['genres'] = df_game8['genres'].replace('Animation &amp; Modeling', 'Animation and Modeling')\n",
    "df_game8['genres'] = df_game8['genres'].replace('Design &amp; Illustration', 'Design and Illustration')\n",
    "\n",
    "# Verificamos los cambios hechos\n",
    "unique_genres = df_game8['genres'].unique()\n",
    "print(f\"Géneros únicos: {unique_genres}\")"
   ]
  },
  {
   "cell_type": "markdown",
   "metadata": {},
   "source": [
    "### Cuidado Estético y Reorganización de columnas"
   ]
  },
  {
   "cell_type": "code",
   "execution_count": 113,
   "metadata": {},
   "outputs": [
    {
     "name": "stdout",
     "output_type": "stream",
     "text": [
      "<class 'pandas.core.frame.DataFrame'>\n",
      "Index: 74714 entries, 88310 to 120444\n",
      "Data columns (total 5 columns):\n",
      " #   Column         Non-Null Count  Dtype  \n",
      "---  ------         --------------  -----  \n",
      " 0   id_steam       74714 non-null  Int32  \n",
      " 1   genero         71548 non-null  object \n",
      " 2   fecha          72444 non-null  Int32  \n",
      " 3   precio         74714 non-null  float64\n",
      " 4   desarrollador  74714 non-null  object \n",
      "dtypes: Int32(2), float64(1), object(2)\n",
      "memory usage: 3.0+ MB\n"
     ]
    }
   ],
   "source": [
    "# Normalizar nombres de columnas a español\n",
    "new_column_names = {\n",
    "    'genres': 'genero',\n",
    "    'id': 'id_steam',\n",
    "    'release_date': 'fecha',\n",
    "    'price': 'precio',\n",
    "    'developer': 'desarrollador'\n",
    "}\n",
    "df_game8 = df_game8.rename(columns=new_column_names)\n",
    "df_game8.info()\n"
   ]
  },
  {
   "cell_type": "code",
   "execution_count": 114,
   "metadata": {},
   "outputs": [
    {
     "data": {
      "text/html": [
       "<div>\n",
       "<style scoped>\n",
       "    .dataframe tbody tr th:only-of-type {\n",
       "        vertical-align: middle;\n",
       "    }\n",
       "\n",
       "    .dataframe tbody tr th {\n",
       "        vertical-align: top;\n",
       "    }\n",
       "\n",
       "    .dataframe thead th {\n",
       "        text-align: right;\n",
       "    }\n",
       "</style>\n",
       "<table border=\"1\" class=\"dataframe\">\n",
       "  <thead>\n",
       "    <tr style=\"text-align: right;\">\n",
       "      <th></th>\n",
       "      <th>id_steam</th>\n",
       "      <th>desarrollador</th>\n",
       "      <th>genero</th>\n",
       "      <th>fecha</th>\n",
       "      <th>precio</th>\n",
       "    </tr>\n",
       "  </thead>\n",
       "  <tbody>\n",
       "    <tr>\n",
       "      <th>88310</th>\n",
       "      <td>761140</td>\n",
       "      <td>Kotoshiro</td>\n",
       "      <td>Action</td>\n",
       "      <td>2018</td>\n",
       "      <td>4.99</td>\n",
       "    </tr>\n",
       "    <tr>\n",
       "      <th>88310</th>\n",
       "      <td>761140</td>\n",
       "      <td>Kotoshiro</td>\n",
       "      <td>Casual</td>\n",
       "      <td>2018</td>\n",
       "      <td>4.99</td>\n",
       "    </tr>\n",
       "    <tr>\n",
       "      <th>88310</th>\n",
       "      <td>761140</td>\n",
       "      <td>Kotoshiro</td>\n",
       "      <td>Indie</td>\n",
       "      <td>2018</td>\n",
       "      <td>4.99</td>\n",
       "    </tr>\n",
       "    <tr>\n",
       "      <th>88310</th>\n",
       "      <td>761140</td>\n",
       "      <td>Kotoshiro</td>\n",
       "      <td>Simulation</td>\n",
       "      <td>2018</td>\n",
       "      <td>4.99</td>\n",
       "    </tr>\n",
       "    <tr>\n",
       "      <th>88310</th>\n",
       "      <td>761140</td>\n",
       "      <td>Kotoshiro</td>\n",
       "      <td>Strategy</td>\n",
       "      <td>2018</td>\n",
       "      <td>4.99</td>\n",
       "    </tr>\n",
       "  </tbody>\n",
       "</table>\n",
       "</div>"
      ],
      "text/plain": [
       "       id_steam desarrollador      genero  fecha  precio\n",
       "88310    761140     Kotoshiro      Action   2018    4.99\n",
       "88310    761140     Kotoshiro      Casual   2018    4.99\n",
       "88310    761140     Kotoshiro       Indie   2018    4.99\n",
       "88310    761140     Kotoshiro  Simulation   2018    4.99\n",
       "88310    761140     Kotoshiro    Strategy   2018    4.99"
      ]
     },
     "execution_count": 114,
     "metadata": {},
     "output_type": "execute_result"
    }
   ],
   "source": [
    "reorganize = ['id_steam', 'desarrollador', 'genero','fecha', 'precio'] \n",
    "\n",
    "# Reordenar las columnas para una lectura más sencilla\n",
    "df_game9 = df_game8[reorganize]\n",
    "\n",
    "df_game9.head()"
   ]
  },
  {
   "cell_type": "code",
   "execution_count": 115,
   "metadata": {},
   "outputs": [
    {
     "name": "stdout",
     "output_type": "stream",
     "text": [
      "<class 'pandas.core.frame.DataFrame'>\n",
      "Index: 74714 entries, 88310 to 120444\n",
      "Data columns (total 5 columns):\n",
      " #   Column         Non-Null Count  Dtype  \n",
      "---  ------         --------------  -----  \n",
      " 0   id_steam       74714 non-null  Int32  \n",
      " 1   desarrollador  74714 non-null  object \n",
      " 2   genero         71548 non-null  object \n",
      " 3   fecha          72444 non-null  Int32  \n",
      " 4   precio         74714 non-null  float64\n",
      "dtypes: Int32(2), float64(1), object(2)\n",
      "memory usage: 3.0+ MB\n",
      "None\n"
     ]
    }
   ],
   "source": [
    "# Eliminar filas duplicadas en caso de que existan\n",
    "df_game9 = df_game9.drop_duplicates()\n",
    "\n",
    "# Verificar el DataFrame después de eliminar duplicados, como se ve en el resultado no hay duplicados en esta altura.\n",
    "print(df_game9.info())\n"
   ]
  },
  {
   "cell_type": "markdown",
   "metadata": {},
   "source": [
    "## Carga de Datos (Load)"
   ]
  },
  {
   "cell_type": "markdown",
   "metadata": {},
   "source": [
    "En esta fase final del proceso ETL, los datos limpios y transformados se cargan en un sistema de almacenamiento o base de datos de destino. En nuestro caso utilizaremos Parquet dada su eficiencia. Yquedan ya listos para ser usados por FastAPI y Render."
   ]
  },
  {
   "cell_type": "code",
   "execution_count": 116,
   "metadata": {},
   "outputs": [],
   "source": [
    "import pyarrow\n",
    "import fastparquet"
   ]
  },
  {
   "cell_type": "code",
   "execution_count": 117,
   "metadata": {},
   "outputs": [
    {
     "name": "stdout",
     "output_type": "stream",
     "text": [
      "Archivo CSV guardado exitosamente.\n",
      "Archivo Parquet guardado exitosamente.\n"
     ]
    }
   ],
   "source": [
    "# Guardar el DataFrame en formato CSV\n",
    "df_game9.to_csv('output_steam_games.csv', index=False)\n",
    "print(\"Archivo CSV guardado exitosamente.\")\n",
    "\n",
    "# Guardar el DataFrame en formato Parquet\n",
    "df_game9.to_parquet('output_steam_games.parquet', index=False, engine='pyarrow', compression='snappy')\n",
    "print(\"Archivo Parquet guardado exitosamente.\")"
   ]
  },
  {
   "cell_type": "markdown",
   "metadata": {},
   "source": [
    "### Sub Datasets"
   ]
  },
  {
   "cell_type": "markdown",
   "metadata": {},
   "source": [
    "Para poder trabajar con mayor agilidad crearemos ciertos subdatasets que apuntaran en definitiva a agilizar a la hora de utilizar los enpoints."
   ]
  },
  {
   "cell_type": "markdown",
   "metadata": {},
   "source": [
    "**Endpoint 1: developer.**\n",
    "\n",
    "Filtra y retorna **cantidad de items** y **porcentaje** de contenido **\"Free\"** por **año** según empresa **desarrolladora**. Por ende eliminamos genero dado que no se utiliza en este punto."
   ]
  },
  {
   "cell_type": "code",
   "execution_count": 118,
   "metadata": {},
   "outputs": [
    {
     "name": "stdout",
     "output_type": "stream",
     "text": [
      "        id_steam             desarrollador  fecha  precio\n",
      "88310     761140                 Kotoshiro   2018    4.99\n",
      "88311     643980          Secret Level SRL   2018    0.00\n",
      "88312     670290              Poolians.com   2017    0.00\n",
      "88313     767400                      彼岸领域   2017    0.99\n",
      "88314     773570                    Unkown   <NA>    2.99\n",
      "...          ...                       ...    ...     ...\n",
      "120440    773640        Nikita \"Ghost_RUS\"   2018    1.99\n",
      "120441    733530                    Sacada   2018    4.99\n",
      "120442    610660  Laush Dmitriy Sergeevich   2018    1.99\n",
      "120443    658870             xropi,stev3ns   2017    4.99\n",
      "120444    681550                    Unkown   <NA>    4.99\n",
      "\n",
      "[32015 rows x 4 columns]\n",
      "Dataset específico para Endpoint 1 guardado exitosamente.\n"
     ]
    }
   ],
   "source": [
    "df_endpoint1 = df_game9.drop(columns=['genero']).drop_duplicates(subset='id_steam')\n",
    "print(df_endpoint1)\n",
    "\n",
    "#Exportamos el dataset para usar en el ednpoint developer a Parquet\n",
    "df_endpoint1.to_parquet('endpoint1.parquet', index=False, engine='pyarrow', compression='snappy')\n",
    "print(\"Dataset específico para Endpoint 1 guardado exitosamente.\")\n"
   ]
  },
  {
   "cell_type": "markdown",
   "metadata": {},
   "source": [
    "**Muestra Aleatoria**\n",
    "\n",
    "En ciertas ocasiones puede ser de gran utilidad una muestra más pequeña de nuestro dataset para agilizar el trabajo. Y para que sea representativa la haremos aleatoria"
   ]
  },
  {
   "cell_type": "code",
   "execution_count": 119,
   "metadata": {},
   "outputs": [
    {
     "name": "stdout",
     "output_type": "stream",
     "text": [
      "        id_steam               desarrollador     genero  fecha  precio\n",
      "102662    633060             Osmotic Studios  Adventure   <NA>    4.99\n",
      "104454    613050              Selenion Games      Indie   2017    4.99\n",
      "116570    301830  Behaviour Interactive Inc.  Adventure   2012   19.99\n",
      "89782     241320                    Ludosity      Indie   2013    9.99\n",
      "117760    275050          Zaxis Games,B-evil      Indie   2014    0.99\n",
      "<class 'pandas.core.frame.DataFrame'>\n",
      "Index: 30000 entries, 102662 to 108179\n",
      "Data columns (total 5 columns):\n",
      " #   Column         Non-Null Count  Dtype  \n",
      "---  ------         --------------  -----  \n",
      " 0   id_steam       30000 non-null  Int32  \n",
      " 1   desarrollador  30000 non-null  object \n",
      " 2   genero         28721 non-null  object \n",
      " 3   fecha          29102 non-null  Int32  \n",
      " 4   precio         30000 non-null  float64\n",
      "dtypes: Int32(2), float64(1), object(2)\n",
      "memory usage: 1.2+ MB\n",
      "None\n"
     ]
    }
   ],
   "source": [
    "# Selección aleatoria de 30,000 filas\n",
    "df_random_sample = df_game9.sample(n=30000, random_state=42)\n",
    "print(df_random_sample.head())\n",
    "print(df_random_sample.info())"
   ]
  },
  {
   "cell_type": "code",
   "execution_count": 120,
   "metadata": {},
   "outputs": [
    {
     "name": "stdout",
     "output_type": "stream",
     "text": [
      "Muestra aleatoria para consultas guardada exitosamente.\n"
     ]
    }
   ],
   "source": [
    "df_random_sample.to_parquet('random_sample.parquet', index=False, engine='pyarrow', compression='snappy')\n",
    "print(\"Muestra aleatoria para consultas guardada exitosamente.\")\n"
   ]
  },
  {
   "cell_type": "markdown",
   "metadata": {},
   "source": [
    "**Endpoint 6: recomendacion_juego**\n",
    "\n",
    "Ingresando el id de producto, deberíamos recibir una lista con 5 juegos recomendados similares al ingresado. Par ello debemos usar un par de columnas que habiamos dejado de lado por ende rettomamos el dataframe ante de seleccionar columnas, para hacer una nueva selección que en esta oportunidad se ajuste a nuestros requerimientos. id, genres, tags, price"
   ]
  },
  {
   "cell_type": "code",
   "execution_count": 121,
   "metadata": {},
   "outputs": [
    {
     "name": "stdout",
     "output_type": "stream",
     "text": [
      "<class 'pandas.core.frame.DataFrame'>\n",
      "Index: 32133 entries, 88310 to 120444\n",
      "Data columns (total 5 columns):\n",
      " #   Column  Non-Null Count  Dtype  \n",
      "---  ------  --------------  -----  \n",
      " 0   id      32133 non-null  float64\n",
      " 1   title   30084 non-null  object \n",
      " 2   genres  28851 non-null  object \n",
      " 3   tags    31971 non-null  object \n",
      " 4   specs   31464 non-null  object \n",
      "dtypes: float64(1), object(4)\n",
      "memory usage: 1.5+ MB\n",
      "None\n"
     ]
    }
   ],
   "source": [
    "columns_relevant2 = ['id', 'title', 'genres', 'tags', 'specs']\n",
    "df_endpoint6 = df_game2[columns_relevant2]\n",
    "\n",
    "print(df_endpoint6.info())"
   ]
  },
  {
   "cell_type": "code",
   "execution_count": 122,
   "metadata": {},
   "outputs": [
    {
     "data": {
      "text/plain": [
       "id         Int32\n",
       "title     object\n",
       "genres    object\n",
       "tags      object\n",
       "specs     object\n",
       "dtype: object"
      ]
     },
     "execution_count": 122,
     "metadata": {},
     "output_type": "execute_result"
    }
   ],
   "source": [
    "# Asegurar que 'id' esté en formato int32 correctamente\n",
    "df_endpoint6 = df_endpoint6.copy()  # Crear una copia para evitar el SettingWithCopyWarning\n",
    "df_endpoint6['id'] = df_endpoint6['id'].astype('Int32')\n",
    "df_endpoint6.dtypes"
   ]
  },
  {
   "cell_type": "code",
   "execution_count": 123,
   "metadata": {},
   "outputs": [
    {
     "name": "stdout",
     "output_type": "stream",
     "text": [
      "<class 'pandas.core.frame.DataFrame'>\n",
      "Index: 32133 entries, 88310 to 120444\n",
      "Data columns (total 5 columns):\n",
      " #   Column            Non-Null Count  Dtype \n",
      "---  ------            --------------  ----- \n",
      " 0   id_steam          32133 non-null  Int32 \n",
      " 1   titulo            30084 non-null  object\n",
      " 2   genero            28851 non-null  object\n",
      " 3   etiqueta          31971 non-null  object\n",
      " 4   especificaciones  31464 non-null  object\n",
      "dtypes: Int32(1), object(4)\n",
      "memory usage: 1.4+ MB\n"
     ]
    }
   ],
   "source": [
    "# Normalizar nombres de columnas a español\n",
    "new_column_names2 = {\n",
    "    'genres': 'genero',\n",
    "    'id': 'id_steam',\n",
    "    'tags': 'etiqueta',\n",
    "    'title': 'titulo',\n",
    "    'specs': 'especificaciones'\n",
    "}\n",
    "df_endpoint6 = df_endpoint6.rename(columns=new_column_names2)\n",
    "df_endpoint6.info()"
   ]
  },
  {
   "cell_type": "code",
   "execution_count": 124,
   "metadata": {},
   "outputs": [
    {
     "data": {
      "text/html": [
       "<div>\n",
       "<style scoped>\n",
       "    .dataframe tbody tr th:only-of-type {\n",
       "        vertical-align: middle;\n",
       "    }\n",
       "\n",
       "    .dataframe tbody tr th {\n",
       "        vertical-align: top;\n",
       "    }\n",
       "\n",
       "    .dataframe thead th {\n",
       "        text-align: right;\n",
       "    }\n",
       "</style>\n",
       "<table border=\"1\" class=\"dataframe\">\n",
       "  <thead>\n",
       "    <tr style=\"text-align: right;\">\n",
       "      <th></th>\n",
       "      <th>id_steam</th>\n",
       "      <th>titulo</th>\n",
       "      <th>genero</th>\n",
       "      <th>etiqueta</th>\n",
       "      <th>especificaciones</th>\n",
       "    </tr>\n",
       "  </thead>\n",
       "  <tbody>\n",
       "    <tr>\n",
       "      <th>88310</th>\n",
       "      <td>761140</td>\n",
       "      <td>Lost Summoner Kitty</td>\n",
       "      <td>[Action, Casual, Indie, Simulation, Strategy]</td>\n",
       "      <td>[Strategy, Action, Indie, Casual, Simulation]</td>\n",
       "      <td>[Single-player]</td>\n",
       "    </tr>\n",
       "    <tr>\n",
       "      <th>88311</th>\n",
       "      <td>643980</td>\n",
       "      <td>Ironbound</td>\n",
       "      <td>[Free to Play, Indie, RPG, Strategy]</td>\n",
       "      <td>[Free to Play, Strategy, Indie, RPG, Card Game...</td>\n",
       "      <td>[Single-player, Multi-player, Online Multi-Pla...</td>\n",
       "    </tr>\n",
       "    <tr>\n",
       "      <th>88312</th>\n",
       "      <td>670290</td>\n",
       "      <td>Real Pool 3D - Poolians</td>\n",
       "      <td>[Casual, Free to Play, Indie, Simulation, Sports]</td>\n",
       "      <td>[Free to Play, Simulation, Sports, Casual, Ind...</td>\n",
       "      <td>[Single-player, Multi-player, Online Multi-Pla...</td>\n",
       "    </tr>\n",
       "    <tr>\n",
       "      <th>88313</th>\n",
       "      <td>767400</td>\n",
       "      <td>弹炸人2222</td>\n",
       "      <td>[Action, Adventure, Casual]</td>\n",
       "      <td>[Action, Adventure, Casual]</td>\n",
       "      <td>[Single-player]</td>\n",
       "    </tr>\n",
       "    <tr>\n",
       "      <th>88314</th>\n",
       "      <td>773570</td>\n",
       "      <td>None</td>\n",
       "      <td>None</td>\n",
       "      <td>[Action, Indie, Casual, Sports]</td>\n",
       "      <td>[Single-player, Full controller support, HTC V...</td>\n",
       "    </tr>\n",
       "  </tbody>\n",
       "</table>\n",
       "</div>"
      ],
      "text/plain": [
       "       id_steam                   titulo  \\\n",
       "88310    761140      Lost Summoner Kitty   \n",
       "88311    643980                Ironbound   \n",
       "88312    670290  Real Pool 3D - Poolians   \n",
       "88313    767400                  弹炸人2222   \n",
       "88314    773570                     None   \n",
       "\n",
       "                                                  genero  \\\n",
       "88310      [Action, Casual, Indie, Simulation, Strategy]   \n",
       "88311               [Free to Play, Indie, RPG, Strategy]   \n",
       "88312  [Casual, Free to Play, Indie, Simulation, Sports]   \n",
       "88313                        [Action, Adventure, Casual]   \n",
       "88314                                               None   \n",
       "\n",
       "                                                etiqueta  \\\n",
       "88310      [Strategy, Action, Indie, Casual, Simulation]   \n",
       "88311  [Free to Play, Strategy, Indie, RPG, Card Game...   \n",
       "88312  [Free to Play, Simulation, Sports, Casual, Ind...   \n",
       "88313                        [Action, Adventure, Casual]   \n",
       "88314                    [Action, Indie, Casual, Sports]   \n",
       "\n",
       "                                        especificaciones  \n",
       "88310                                    [Single-player]  \n",
       "88311  [Single-player, Multi-player, Online Multi-Pla...  \n",
       "88312  [Single-player, Multi-player, Online Multi-Pla...  \n",
       "88313                                    [Single-player]  \n",
       "88314  [Single-player, Full controller support, HTC V...  "
      ]
     },
     "execution_count": 124,
     "metadata": {},
     "output_type": "execute_result"
    }
   ],
   "source": [
    "df_endpoint6.head()"
   ]
  },
  {
   "cell_type": "code",
   "execution_count": 125,
   "metadata": {},
   "outputs": [
    {
     "name": "stdout",
     "output_type": "stream",
     "text": [
      "Conteo de valores nulos antes de eliminar:\n",
      "id_steam               0\n",
      "titulo              2049\n",
      "genero              3282\n",
      "etiqueta             162\n",
      "especificaciones     669\n",
      "dtype: int64\n",
      "       id_steam                         titulo        genero      etiqueta  \\\n",
      "88310    761140            Lost Summoner Kitty        Action      Strategy   \n",
      "88311    643980                      Ironbound  Free to Play  Free to Play   \n",
      "88312    670290        Real Pool 3D - Poolians        Casual  Free to Play   \n",
      "88313    767400                        弹炸人2222        Action        Action   \n",
      "88315    772540          Battle Royale Trainer        Action        Action   \n",
      "88316    774276   SNOW - All Access Basic Pass  Free to Play  Free to Play   \n",
      "88317    774277     SNOW - All Access Pro Pass  Free to Play  Free to Play   \n",
      "88318    774278  SNOW - All Access Legend Pass  Free to Play  Free to Play   \n",
      "88319    768800                           Race        Casual         Indie   \n",
      "88320    768570                Uncanny Islands        Action  Early Access   \n",
      "\n",
      "      especificaciones  \n",
      "88310    Single-player  \n",
      "88311    Single-player  \n",
      "88312    Single-player  \n",
      "88313    Single-player  \n",
      "88315    Single-player  \n",
      "88316    Single-player  \n",
      "88317    Single-player  \n",
      "88318    Single-player  \n",
      "88319    Single-player  \n",
      "88320    Single-player  \n"
     ]
    }
   ],
   "source": [
    "# Copiar el DataFrame\n",
    "df_endpoint6_final = df_endpoint6.copy()\n",
    "\n",
    "# Seleccionar el primer género, etiqueta y especificación principal de cada ítem\n",
    "\n",
    "df_endpoint6_final['genero'] = df_endpoint6['genero'].apply(lambda x: x[0] if isinstance(x, list) and len(x) > 0 else None)\n",
    "df_endpoint6_final['etiqueta'] = df_endpoint6['etiqueta'].apply(lambda x: x[0] if isinstance(x, list) and len(x) > 0 else None)\n",
    "df_endpoint6_final['especificaciones'] = df_endpoint6['especificaciones'].apply(lambda x: x[0] if isinstance(x, list) and len(x) > 0 else None)\n",
    "\n",
    "# Conteo de valores nulos\n",
    "null_counts = df_endpoint6_final.isnull().sum()\n",
    "print(\"Conteo de valores nulos antes de eliminar:\")\n",
    "print(null_counts)\n",
    "\n",
    "# Eliminar filas con valores nulos\n",
    "df_endpoint6_final2 = df_endpoint6_final.dropna()\n",
    "\n",
    "# Verificar el DataFrame resultante\n",
    "print(df_endpoint6_final2.head(10))"
   ]
  },
  {
   "cell_type": "code",
   "execution_count": 126,
   "metadata": {},
   "outputs": [
    {
     "name": "stdout",
     "output_type": "stream",
     "text": [
      "Dataset específico para recomendaciones guardado exitosamente.\n"
     ]
    }
   ],
   "source": [
    "# Exportar el dataset a Parquet\n",
    "df_endpoint6_final2.to_parquet('recomendacionjuego.parquet', index=False, engine='pyarrow', compression='snappy')\n",
    "print(\"Dataset específico para recomendaciones guardado exitosamente.\")"
   ]
  }
 ],
 "metadata": {
  "kernelspec": {
   "display_name": "venv",
   "language": "python",
   "name": "python3"
  },
  "language_info": {
   "codemirror_mode": {
    "name": "ipython",
    "version": 3
   },
   "file_extension": ".py",
   "mimetype": "text/x-python",
   "name": "python",
   "nbconvert_exporter": "python",
   "pygments_lexer": "ipython3",
   "version": "3.12.4"
  }
 },
 "nbformat": 4,
 "nbformat_minor": 2
}
