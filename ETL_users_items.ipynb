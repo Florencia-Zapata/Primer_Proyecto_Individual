{
 "cells": [
  {
   "cell_type": "markdown",
   "metadata": {},
   "source": [
    "# ETL Users Items"
   ]
  },
  {
   "cell_type": "markdown",
   "metadata": {},
   "source": [
    "Importamos las librerias que utilizaremos en esta etapa del proyecto."
   ]
  },
  {
   "cell_type": "code",
   "execution_count": 1,
   "metadata": {},
   "outputs": [],
   "source": [
    "import pandas as pd\n",
    "import numpy as np\n",
    "import ast\n",
    "import json"
   ]
  },
  {
   "cell_type": "markdown",
   "metadata": {},
   "source": [
    "## Extracción de Datos:\n",
    "\n",
    "Hemos comenzado descomprimiendo los archivos json.gz con WinRAR, haciendo que los datos estén listos para su procesamiento en VS Code. Luego lo cargo en un DataFrame para su uso posterior."
   ]
  },
  {
   "cell_type": "code",
   "execution_count": 2,
   "metadata": {},
   "outputs": [
    {
     "name": "stdout",
     "output_type": "stream",
     "text": [
      "             user_id  items_count           steam_id  \\\n",
      "0  76561197970982479          277  76561197970982479   \n",
      "1            js41637          888  76561198035864385   \n",
      "2          evcentric          137  76561198007712555   \n",
      "3         Riot-Punch          328  76561197963445855   \n",
      "4              doctr          541  76561198002099482   \n",
      "\n",
      "                                            user_url  \\\n",
      "0  http://steamcommunity.com/profiles/76561197970...   \n",
      "1               http://steamcommunity.com/id/js41637   \n",
      "2             http://steamcommunity.com/id/evcentric   \n",
      "3            http://steamcommunity.com/id/Riot-Punch   \n",
      "4                 http://steamcommunity.com/id/doctr   \n",
      "\n",
      "                                               items  \n",
      "0  [{'item_id': '10', 'item_name': 'Counter-Strik...  \n",
      "1  [{'item_id': '10', 'item_name': 'Counter-Strik...  \n",
      "2  [{'item_id': '1200', 'item_name': 'Red Orchest...  \n",
      "3  [{'item_id': '10', 'item_name': 'Counter-Strik...  \n",
      "4  [{'item_id': '300', 'item_name': 'Day of Defea...  \n"
     ]
    }
   ],
   "source": [
    "# Ruta al archivo JSON\n",
    "raw_data = 'australian_users_items.json'\n",
    "\n",
    "rows = []\n",
    "\n",
    "# Probar con una codificación específica si utf-8 no funciona\n",
    "with open(raw_data, encoding='MacRoman') as f:\n",
    "    for line in f.readlines():\n",
    "        try:\n",
    "            rows.append(ast.literal_eval(line))\n",
    "        except ValueError as e:\n",
    "            print(f\"Error en la línea: {line}\")\n",
    "            continue\n",
    "\n",
    "df_users_items = pd.DataFrame(rows)\n",
    "print(df_users_items.head())\n"
   ]
  },
  {
   "cell_type": "code",
   "execution_count": 3,
   "metadata": {},
   "outputs": [
    {
     "name": "stdout",
     "output_type": "stream",
     "text": [
      "<class 'pandas.core.frame.DataFrame'>\n",
      "RangeIndex: 88310 entries, 0 to 88309\n",
      "Data columns (total 5 columns):\n",
      " #   Column       Non-Null Count  Dtype \n",
      "---  ------       --------------  ----- \n",
      " 0   user_id      88310 non-null  object\n",
      " 1   items_count  88310 non-null  int64 \n",
      " 2   steam_id     88310 non-null  object\n",
      " 3   user_url     88310 non-null  object\n",
      " 4   items        88310 non-null  object\n",
      "dtypes: int64(1), object(4)\n",
      "memory usage: 3.4+ MB\n"
     ]
    }
   ],
   "source": [
    "df_users_items.info()"
   ]
  },
  {
   "cell_type": "markdown",
   "metadata": {},
   "source": [
    "## Transformación de Datos:\n",
    "\n",
    "En segundo lugar, continuamos con la transformación. Esta consiste en limpiar, modificar y preparar los datos para su uso posterior. Eso incluye eliminar datos nulos, convertir tipos de datos, normalizar columnas, desanidar listas, etc."
   ]
  },
  {
   "cell_type": "markdown",
   "metadata": {},
   "source": [
    "### DATOS NULOS y COLUMNAS IRRELEVANTES"
   ]
  },
  {
   "cell_type": "markdown",
   "metadata": {},
   "source": [
    "Ahora que se la magnitud del dataset empiezo a depurarlo. En primer lugar voy a cheuqear si hay o no **id** que tengan **valor nulo**, dado que eso me podria traer problemas al relacionar mis datos con los otros dataset. De existir **id** sin valor, entonces eliminaria esas filas."
   ]
  },
  {
   "cell_type": "markdown",
   "metadata": {},
   "source": [
    "Dada la información que entrega df_users_items.info() notamos que en este caso el DataFrame original  NO tiene valores nulos dado que la cantidad de filas se corresponden con la cantidad  de user_id, items_count, steam_id, user_url e items. Por ende no se justifica averiguar filas con data nula ni rearmarla. Por esta razón pasamos directamente a la eliminación de columnas que puedan estar de más para nuesstro objetivo puntual del proyecto. "
   ]
  },
  {
   "cell_type": "code",
   "execution_count": 4,
   "metadata": {},
   "outputs": [
    {
     "name": "stdout",
     "output_type": "stream",
     "text": [
      "<class 'pandas.core.frame.DataFrame'>\n",
      "RangeIndex: 88310 entries, 0 to 88309\n",
      "Data columns (total 3 columns):\n",
      " #   Column       Non-Null Count  Dtype \n",
      "---  ------       --------------  ----- \n",
      " 0   user_id      88310 non-null  object\n",
      " 1   items_count  88310 non-null  int64 \n",
      " 2   items        88310 non-null  object\n",
      "dtypes: int64(1), object(2)\n",
      "memory usage: 2.0+ MB\n"
     ]
    }
   ],
   "source": [
    "columns_relevant = ['user_id', 'items_count', 'items']\n",
    "df_users_items2 = df_users_items[columns_relevant]\n",
    "df_users_items2.info()\n"
   ]
  },
  {
   "cell_type": "markdown",
   "metadata": {},
   "source": [
    "### CALIDAD DE DATOS"
   ]
  },
  {
   "cell_type": "code",
   "execution_count": 5,
   "metadata": {},
   "outputs": [
    {
     "data": {
      "text/plain": [
       "user_id        object\n",
       "items_count     int64\n",
       "items          object\n",
       "dtype: object"
      ]
     },
     "execution_count": 5,
     "metadata": {},
     "output_type": "execute_result"
    }
   ],
   "source": [
    "df_users_items2.dtypes"
   ]
  },
  {
   "cell_type": "markdown",
   "metadata": {},
   "source": [
    "**user_id**: analizamos que tipos de datos tiene dado que está definido como object. AL ver tan solo algunos ejemplos de la tabla notamos que hay tanto nombres como números. Por ello no se justifica modifcarlos."
   ]
  },
  {
   "cell_type": "code",
   "execution_count": 6,
   "metadata": {},
   "outputs": [
    {
     "data": {
      "text/html": [
       "<div>\n",
       "<style scoped>\n",
       "    .dataframe tbody tr th:only-of-type {\n",
       "        vertical-align: middle;\n",
       "    }\n",
       "\n",
       "    .dataframe tbody tr th {\n",
       "        vertical-align: top;\n",
       "    }\n",
       "\n",
       "    .dataframe thead th {\n",
       "        text-align: right;\n",
       "    }\n",
       "</style>\n",
       "<table border=\"1\" class=\"dataframe\">\n",
       "  <thead>\n",
       "    <tr style=\"text-align: right;\">\n",
       "      <th></th>\n",
       "      <th>user_id</th>\n",
       "      <th>items_count</th>\n",
       "      <th>items</th>\n",
       "    </tr>\n",
       "  </thead>\n",
       "  <tbody>\n",
       "    <tr>\n",
       "      <th>0</th>\n",
       "      <td>76561197970982479</td>\n",
       "      <td>277</td>\n",
       "      <td>[{'item_id': '10', 'item_name': 'Counter-Strik...</td>\n",
       "    </tr>\n",
       "    <tr>\n",
       "      <th>1</th>\n",
       "      <td>js41637</td>\n",
       "      <td>888</td>\n",
       "      <td>[{'item_id': '10', 'item_name': 'Counter-Strik...</td>\n",
       "    </tr>\n",
       "    <tr>\n",
       "      <th>2</th>\n",
       "      <td>evcentric</td>\n",
       "      <td>137</td>\n",
       "      <td>[{'item_id': '1200', 'item_name': 'Red Orchest...</td>\n",
       "    </tr>\n",
       "    <tr>\n",
       "      <th>3</th>\n",
       "      <td>Riot-Punch</td>\n",
       "      <td>328</td>\n",
       "      <td>[{'item_id': '10', 'item_name': 'Counter-Strik...</td>\n",
       "    </tr>\n",
       "    <tr>\n",
       "      <th>4</th>\n",
       "      <td>doctr</td>\n",
       "      <td>541</td>\n",
       "      <td>[{'item_id': '300', 'item_name': 'Day of Defea...</td>\n",
       "    </tr>\n",
       "    <tr>\n",
       "      <th>5</th>\n",
       "      <td>MinxIsBetterThanPotatoes</td>\n",
       "      <td>371</td>\n",
       "      <td>[{'item_id': '50', 'item_name': 'Half-Life: Op...</td>\n",
       "    </tr>\n",
       "    <tr>\n",
       "      <th>6</th>\n",
       "      <td>NitemarePK</td>\n",
       "      <td>304</td>\n",
       "      <td>[{'item_id': '240', 'item_name': 'Counter-Stri...</td>\n",
       "    </tr>\n",
       "    <tr>\n",
       "      <th>7</th>\n",
       "      <td>themanwich</td>\n",
       "      <td>258</td>\n",
       "      <td>[{'item_id': '220', 'item_name': 'Half-Life 2'...</td>\n",
       "    </tr>\n",
       "    <tr>\n",
       "      <th>8</th>\n",
       "      <td>maplemage</td>\n",
       "      <td>629</td>\n",
       "      <td>[{'item_id': '240', 'item_name': 'Counter-Stri...</td>\n",
       "    </tr>\n",
       "    <tr>\n",
       "      <th>9</th>\n",
       "      <td>Wackky</td>\n",
       "      <td>0</td>\n",
       "      <td>[]</td>\n",
       "    </tr>\n",
       "  </tbody>\n",
       "</table>\n",
       "</div>"
      ],
      "text/plain": [
       "                    user_id  items_count  \\\n",
       "0         76561197970982479          277   \n",
       "1                   js41637          888   \n",
       "2                 evcentric          137   \n",
       "3                Riot-Punch          328   \n",
       "4                     doctr          541   \n",
       "5  MinxIsBetterThanPotatoes          371   \n",
       "6                NitemarePK          304   \n",
       "7                themanwich          258   \n",
       "8                 maplemage          629   \n",
       "9                    Wackky            0   \n",
       "\n",
       "                                               items  \n",
       "0  [{'item_id': '10', 'item_name': 'Counter-Strik...  \n",
       "1  [{'item_id': '10', 'item_name': 'Counter-Strik...  \n",
       "2  [{'item_id': '1200', 'item_name': 'Red Orchest...  \n",
       "3  [{'item_id': '10', 'item_name': 'Counter-Strik...  \n",
       "4  [{'item_id': '300', 'item_name': 'Day of Defea...  \n",
       "5  [{'item_id': '50', 'item_name': 'Half-Life: Op...  \n",
       "6  [{'item_id': '240', 'item_name': 'Counter-Stri...  \n",
       "7  [{'item_id': '220', 'item_name': 'Half-Life 2'...  \n",
       "8  [{'item_id': '240', 'item_name': 'Counter-Stri...  \n",
       "9                                                 []  "
      ]
     },
     "execution_count": 6,
     "metadata": {},
     "output_type": "execute_result"
    }
   ],
   "source": [
    "df_users_items2.head(10)"
   ]
  },
  {
   "cell_type": "markdown",
   "metadata": {},
   "source": [
    "**items**: En este caso, lo primero y más importante será desanidar los datos, dado que como se observa en la tabla de arriba estan en formato JSON anidados en en cada dato de la columna."
   ]
  },
  {
   "cell_type": "code",
   "execution_count": 7,
   "metadata": {},
   "outputs": [
    {
     "name": "stdout",
     "output_type": "stream",
     "text": [
      "             user_id  items_count item_id                  item_name  \\\n",
      "0  76561197970982479          277      10             Counter-Strike   \n",
      "1  76561197970982479          277      20      Team Fortress Classic   \n",
      "2  76561197970982479          277      30              Day of Defeat   \n",
      "3  76561197970982479          277      40         Deathmatch Classic   \n",
      "4  76561197970982479          277      50  Half-Life: Opposing Force   \n",
      "\n",
      "   playtime_forever  \n",
      "0                 6  \n",
      "1                 0  \n",
      "2                 7  \n",
      "3                 0  \n",
      "4                 0  \n"
     ]
    }
   ],
   "source": [
    "def items_extract(df):\n",
    "    items_list = []\n",
    "    \n",
    "    # Iterar sobre cada fila del DataFrame original\n",
    "    for _, row in df.iterrows():\n",
    "        user_id = row['user_id']\n",
    "        items_count = row['items_count']\n",
    "        items = row['items']\n",
    "        \n",
    "        # Iterar sobre cada item en la lista de items para extraer la información necesaria\n",
    "        for item in items:\n",
    "            item_id = item.get('item_id')\n",
    "            item_name = item.get('item_name')\n",
    "            playtime_forever = item.get('playtime_forever')\n",
    "            \n",
    "            items_list.append([user_id, items_count, item_id, item_name, playtime_forever])\n",
    "    \n",
    "    # Crear un nuevo DataFrame\n",
    "    df_items = pd.DataFrame(items_list, columns=['user_id', 'items_count', 'item_id', 'item_name', 'playtime_forever'])\n",
    "    return df_items\n",
    "\n",
    "# Llamar a la función para extraer los datos de items\n",
    "df_users_items3 = items_extract(df_users_items2)\n",
    "\n",
    "# Ver las primeras filas del nuevo DataFrame\n",
    "print(df_users_items3.head())\n"
   ]
  },
  {
   "cell_type": "code",
   "execution_count": 8,
   "metadata": {},
   "outputs": [
    {
     "name": "stdout",
     "output_type": "stream",
     "text": [
      "<class 'pandas.core.frame.DataFrame'>\n",
      "RangeIndex: 5153209 entries, 0 to 5153208\n",
      "Data columns (total 5 columns):\n",
      " #   Column            Dtype \n",
      "---  ------            ----- \n",
      " 0   user_id           object\n",
      " 1   items_count       int64 \n",
      " 2   item_id           object\n",
      " 3   item_name         object\n",
      " 4   playtime_forever  int64 \n",
      "dtypes: int64(2), object(3)\n",
      "memory usage: 196.6+ MB\n"
     ]
    }
   ],
   "source": [
    "df_users_items3.info()"
   ]
  },
  {
   "cell_type": "code",
   "execution_count": 9,
   "metadata": {},
   "outputs": [
    {
     "name": "stdout",
     "output_type": "stream",
     "text": [
      "user_id              object\n",
      "items_count           int64\n",
      "item_id               int64\n",
      "item_name            object\n",
      "playtime_forever    float64\n",
      "dtype: object\n"
     ]
    }
   ],
   "source": [
    "\n",
    "# Convertir tanto item_id como playtime_forever a enteros\n",
    "df_users_items3['item_id'] = df_users_items3['item_id'].astype(int)\n",
    "df_users_items3['playtime_forever'] = df_users_items3['playtime_forever'].astype(float)\n",
    "\n",
    "# Verificar los tipos de datos\n",
    "print(df_users_items3.dtypes)"
   ]
  },
  {
   "cell_type": "markdown",
   "metadata": {},
   "source": [
    "### Segunda etapa de depuración del DataFrame\n",
    "\n",
    "Dado que desanidamos la columna item, nuestro dataframe paso de tener 88.310 filas a 5.153.209. Por ende el tamaño de nuestra base creceria considerablemente y ello justifica volver a chequear datos nulos, duplicados, etc."
   ]
  },
  {
   "cell_type": "code",
   "execution_count": 10,
   "metadata": {},
   "outputs": [
    {
     "data": {
      "text/plain": [
       "np.int64(0)"
      ]
     },
     "execution_count": 10,
     "metadata": {},
     "output_type": "execute_result"
    }
   ],
   "source": [
    "# Registros con id nulo: \n",
    "null_register = df_users_items3.isna().sum().sum()\n",
    "null_register\n"
   ]
  },
  {
   "cell_type": "markdown",
   "metadata": {},
   "source": [
    "Dado que el tamaño del dataframe sigue siendo muy grande, y podria traerme consecuencias negativas para las siguientes etapas, procederé a una limpieza mayor."
   ]
  },
  {
   "cell_type": "markdown",
   "metadata": {},
   "source": [
    "**Eliminacion de mínimos** \n",
    "\n",
    "Dado que parte importante del uso de este dataset sera para calcular el tiempo máximo de juego segun genero, consideramos que podriamos filtrar la cantidad de filas en base a aquellas en donde el tiempo de juego es menor a una hora."
   ]
  },
  {
   "cell_type": "code",
   "execution_count": 11,
   "metadata": {},
   "outputs": [
    {
     "name": "stdout",
     "output_type": "stream",
     "text": [
      "<class 'pandas.core.frame.DataFrame'>\n",
      "Index: 3285246 entries, 0 to 5153208\n",
      "Data columns (total 5 columns):\n",
      " #   Column            Dtype  \n",
      "---  ------            -----  \n",
      " 0   user_id           object \n",
      " 1   items_count       int64  \n",
      " 2   item_id           int64  \n",
      " 3   item_name         object \n",
      " 4   playtime_forever  float64\n",
      "dtypes: float64(1), int64(2), object(2)\n",
      "memory usage: 150.4+ MB\n"
     ]
    }
   ],
   "source": [
    "df_users_items4 = df_users_items3[df_users_items3['playtime_forever'] >= 1]\n",
    "df_users_items4.info()\n"
   ]
  },
  {
   "cell_type": "markdown",
   "metadata": {},
   "source": [
    "Como vemos se redujo el numero de filas significativamente pero aun sigue siendo un valor grande que puede traer problemas a la hora de querer trabajar con el en fasapi y render. Así que evaluaremos cuanto tiempo jugo el percentil que menos jugó y de allí eliminaremos ese porcentaje tambien dado que no influiria en nuestros endpoints demasiado. Y luego en base a esa información procederemos a achicar nuevamente el dataset."
   ]
  },
  {
   "cell_type": "code",
   "execution_count": 12,
   "metadata": {},
   "outputs": [
    {
     "name": "stdout",
     "output_type": "stream",
     "text": [
      "Cuartil 50 (Mediana): 205.0\n"
     ]
    }
   ],
   "source": [
    "cuartil_50 = df_users_items4['playtime_forever'].quantile(0.50)\n",
    "print(f\"Cuartil 50 (Mediana): {cuartil_50}\")\n"
   ]
  },
  {
   "cell_type": "code",
   "execution_count": 13,
   "metadata": {},
   "outputs": [
    {
     "name": "stdout",
     "output_type": "stream",
     "text": [
      "<class 'pandas.core.frame.DataFrame'>\n",
      "Index: 1641489 entries, 8 to 5153202\n",
      "Data columns (total 5 columns):\n",
      " #   Column            Non-Null Count    Dtype  \n",
      "---  ------            --------------    -----  \n",
      " 0   user_id           1641489 non-null  object \n",
      " 1   items_count       1641489 non-null  int64  \n",
      " 2   item_id           1641489 non-null  int64  \n",
      " 3   item_name         1641489 non-null  object \n",
      " 4   playtime_forever  1641489 non-null  float64\n",
      "dtypes: float64(1), int64(2), object(2)\n",
      "memory usage: 75.1+ MB\n"
     ]
    }
   ],
   "source": [
    "df_users_items5 = df_users_items4[df_users_items4['playtime_forever'] > cuartil_50]\n",
    "df_users_items5.info()"
   ]
  },
  {
   "cell_type": "markdown",
   "metadata": {},
   "source": [
    "Dado que aún se trata de un dataset muy grande que podria traer conflicto en los siguentes niveles, realizo una muestra significativa aleatoria. Elijo que sea aleatoria y no de los primero valores para que así sea más representativa de toda la muestra."
   ]
  },
  {
   "cell_type": "code",
   "execution_count": 14,
   "metadata": {},
   "outputs": [
    {
     "data": {
      "text/html": [
       "<div>\n",
       "<style scoped>\n",
       "    .dataframe tbody tr th:only-of-type {\n",
       "        vertical-align: middle;\n",
       "    }\n",
       "\n",
       "    .dataframe tbody tr th {\n",
       "        vertical-align: top;\n",
       "    }\n",
       "\n",
       "    .dataframe thead th {\n",
       "        text-align: right;\n",
       "    }\n",
       "</style>\n",
       "<table border=\"1\" class=\"dataframe\">\n",
       "  <thead>\n",
       "    <tr style=\"text-align: right;\">\n",
       "      <th></th>\n",
       "      <th>user_id</th>\n",
       "      <th>items_count</th>\n",
       "      <th>item_id</th>\n",
       "      <th>item_name</th>\n",
       "      <th>playtime_forever</th>\n",
       "    </tr>\n",
       "  </thead>\n",
       "  <tbody>\n",
       "    <tr>\n",
       "      <th>2589777</th>\n",
       "      <td>76561198070585472</td>\n",
       "      <td>4456</td>\n",
       "      <td>340330</td>\n",
       "      <td>Deity Quest</td>\n",
       "      <td>323.0</td>\n",
       "    </tr>\n",
       "    <tr>\n",
       "      <th>2697140</th>\n",
       "      <td>Hyren516</td>\n",
       "      <td>63</td>\n",
       "      <td>211820</td>\n",
       "      <td>Starbound</td>\n",
       "      <td>403.0</td>\n",
       "    </tr>\n",
       "    <tr>\n",
       "      <th>1916843</th>\n",
       "      <td>64723864</td>\n",
       "      <td>221</td>\n",
       "      <td>346900</td>\n",
       "      <td>AdVenture Capitalist</td>\n",
       "      <td>1374.0</td>\n",
       "    </tr>\n",
       "    <tr>\n",
       "      <th>3104352</th>\n",
       "      <td>nerothefgt</td>\n",
       "      <td>183</td>\n",
       "      <td>550</td>\n",
       "      <td>Left 4 Dead 2</td>\n",
       "      <td>1424.0</td>\n",
       "    </tr>\n",
       "    <tr>\n",
       "      <th>2902020</th>\n",
       "      <td>76561198015803033</td>\n",
       "      <td>127</td>\n",
       "      <td>4000</td>\n",
       "      <td>Garry's Mod</td>\n",
       "      <td>9797.0</td>\n",
       "    </tr>\n",
       "  </tbody>\n",
       "</table>\n",
       "</div>"
      ],
      "text/plain": [
       "                   user_id  items_count  item_id             item_name  \\\n",
       "2589777  76561198070585472         4456   340330           Deity Quest   \n",
       "2697140           Hyren516           63   211820             Starbound   \n",
       "1916843           64723864          221   346900  AdVenture Capitalist   \n",
       "3104352         nerothefgt          183      550         Left 4 Dead 2   \n",
       "2902020  76561198015803033          127     4000           Garry's Mod   \n",
       "\n",
       "         playtime_forever  \n",
       "2589777             323.0  \n",
       "2697140             403.0  \n",
       "1916843            1374.0  \n",
       "3104352            1424.0  \n",
       "2902020            9797.0  "
      ]
     },
     "execution_count": 14,
     "metadata": {},
     "output_type": "execute_result"
    }
   ],
   "source": [
    "# Crear una muestra aleatoria de 50,000 registros\n",
    "df_users_items6 = df_users_items5.sample(n=50000, random_state=27)\n",
    "df_users_items6.head()"
   ]
  },
  {
   "cell_type": "markdown",
   "metadata": {},
   "source": [
    "### Cuidado Estético y Reorganización de columnas"
   ]
  },
  {
   "cell_type": "code",
   "execution_count": 15,
   "metadata": {},
   "outputs": [
    {
     "name": "stdout",
     "output_type": "stream",
     "text": [
      "<class 'pandas.core.frame.DataFrame'>\n",
      "Index: 50000 entries, 2589777 to 3446428\n",
      "Data columns (total 5 columns):\n",
      " #   Column                 Non-Null Count  Dtype  \n",
      "---  ------                 --------------  -----  \n",
      " 0   id_usuario             50000 non-null  object \n",
      " 1   items_count            50000 non-null  int64  \n",
      " 2   id_item                50000 non-null  int64  \n",
      " 3   nombre_de_item         50000 non-null  object \n",
      " 4   tiempo_total_de_juego  50000 non-null  float64\n",
      "dtypes: float64(1), int64(2), object(2)\n",
      "memory usage: 2.3+ MB\n"
     ]
    }
   ],
   "source": [
    "# Normalizar nombres de columnas a español\n",
    "new_column_names = {\n",
    "    'user_id': 'id_usuario',\n",
    "    'item_count': 'cantidad_de_items',\n",
    "    'item_id': 'id_item',\n",
    "    'item_name': 'nombre_de_item',\n",
    "    'playtime_forever': 'tiempo_total_de_juego'\n",
    "}\n",
    "df_users_items6 = df_users_items6.rename(columns=new_column_names)\n",
    "df_users_items6.info()\n"
   ]
  },
  {
   "cell_type": "code",
   "execution_count": 16,
   "metadata": {},
   "outputs": [
    {
     "data": {
      "text/html": [
       "<div>\n",
       "<style scoped>\n",
       "    .dataframe tbody tr th:only-of-type {\n",
       "        vertical-align: middle;\n",
       "    }\n",
       "\n",
       "    .dataframe tbody tr th {\n",
       "        vertical-align: top;\n",
       "    }\n",
       "\n",
       "    .dataframe thead th {\n",
       "        text-align: right;\n",
       "    }\n",
       "</style>\n",
       "<table border=\"1\" class=\"dataframe\">\n",
       "  <thead>\n",
       "    <tr style=\"text-align: right;\">\n",
       "      <th></th>\n",
       "      <th>id_usuario</th>\n",
       "      <th>items_count</th>\n",
       "      <th>id_item</th>\n",
       "      <th>nombre_de_item</th>\n",
       "      <th>tiempo_total_de_juego</th>\n",
       "    </tr>\n",
       "  </thead>\n",
       "  <tbody>\n",
       "    <tr>\n",
       "      <th>2589777</th>\n",
       "      <td>76561198070585472</td>\n",
       "      <td>4456</td>\n",
       "      <td>340330</td>\n",
       "      <td>Deity Quest</td>\n",
       "      <td>323.0</td>\n",
       "    </tr>\n",
       "    <tr>\n",
       "      <th>2697140</th>\n",
       "      <td>Hyren516</td>\n",
       "      <td>63</td>\n",
       "      <td>211820</td>\n",
       "      <td>Starbound</td>\n",
       "      <td>403.0</td>\n",
       "    </tr>\n",
       "    <tr>\n",
       "      <th>1916843</th>\n",
       "      <td>64723864</td>\n",
       "      <td>221</td>\n",
       "      <td>346900</td>\n",
       "      <td>AdVenture Capitalist</td>\n",
       "      <td>1374.0</td>\n",
       "    </tr>\n",
       "    <tr>\n",
       "      <th>3104352</th>\n",
       "      <td>nerothefgt</td>\n",
       "      <td>183</td>\n",
       "      <td>550</td>\n",
       "      <td>Left 4 Dead 2</td>\n",
       "      <td>1424.0</td>\n",
       "    </tr>\n",
       "    <tr>\n",
       "      <th>2902020</th>\n",
       "      <td>76561198015803033</td>\n",
       "      <td>127</td>\n",
       "      <td>4000</td>\n",
       "      <td>Garry's Mod</td>\n",
       "      <td>9797.0</td>\n",
       "    </tr>\n",
       "    <tr>\n",
       "      <th>2384564</th>\n",
       "      <td>Bindalee</td>\n",
       "      <td>28</td>\n",
       "      <td>238090</td>\n",
       "      <td>Sniper Elite 3</td>\n",
       "      <td>1008.0</td>\n",
       "    </tr>\n",
       "    <tr>\n",
       "      <th>1502539</th>\n",
       "      <td>76561198131938966</td>\n",
       "      <td>60</td>\n",
       "      <td>33930</td>\n",
       "      <td>Arma 2: Operation Arrowhead</td>\n",
       "      <td>11499.0</td>\n",
       "    </tr>\n",
       "    <tr>\n",
       "      <th>1888957</th>\n",
       "      <td>JiAltair</td>\n",
       "      <td>45</td>\n",
       "      <td>4000</td>\n",
       "      <td>Garry's Mod</td>\n",
       "      <td>412.0</td>\n",
       "    </tr>\n",
       "    <tr>\n",
       "      <th>2606353</th>\n",
       "      <td>Ihealwithmypenis</td>\n",
       "      <td>114</td>\n",
       "      <td>108600</td>\n",
       "      <td>Project Zomboid</td>\n",
       "      <td>417.0</td>\n",
       "    </tr>\n",
       "    <tr>\n",
       "      <th>1619212</th>\n",
       "      <td>76561198071322532</td>\n",
       "      <td>55</td>\n",
       "      <td>200260</td>\n",
       "      <td>Batman: Arkham City GOTY</td>\n",
       "      <td>1661.0</td>\n",
       "    </tr>\n",
       "  </tbody>\n",
       "</table>\n",
       "</div>"
      ],
      "text/plain": [
       "                id_usuario  items_count  id_item               nombre_de_item  \\\n",
       "2589777  76561198070585472         4456   340330                  Deity Quest   \n",
       "2697140           Hyren516           63   211820                    Starbound   \n",
       "1916843           64723864          221   346900         AdVenture Capitalist   \n",
       "3104352         nerothefgt          183      550                Left 4 Dead 2   \n",
       "2902020  76561198015803033          127     4000                  Garry's Mod   \n",
       "2384564           Bindalee           28   238090               Sniper Elite 3   \n",
       "1502539  76561198131938966           60    33930  Arma 2: Operation Arrowhead   \n",
       "1888957           JiAltair           45     4000                  Garry's Mod   \n",
       "2606353   Ihealwithmypenis          114   108600              Project Zomboid   \n",
       "1619212  76561198071322532           55   200260     Batman: Arkham City GOTY   \n",
       "\n",
       "         tiempo_total_de_juego  \n",
       "2589777                  323.0  \n",
       "2697140                  403.0  \n",
       "1916843                 1374.0  \n",
       "3104352                 1424.0  \n",
       "2902020                 9797.0  \n",
       "2384564                 1008.0  \n",
       "1502539                11499.0  \n",
       "1888957                  412.0  \n",
       "2606353                  417.0  \n",
       "1619212                 1661.0  "
      ]
     },
     "execution_count": 16,
     "metadata": {},
     "output_type": "execute_result"
    }
   ],
   "source": [
    "df_users_items6.head(10)"
   ]
  },
  {
   "cell_type": "markdown",
   "metadata": {},
   "source": [
    "## Carga de Datos (Load)"
   ]
  },
  {
   "cell_type": "markdown",
   "metadata": {},
   "source": [
    "En esta fase final del proceso ETL, los datos limpios y transformados se cargan en un sistema de almacenamiento o base de datos de destino. En nuestro caso utilizaremos Parquet dada su eficiencia. Y quedan ya listos para ser usados por FastAPI y Render."
   ]
  },
  {
   "cell_type": "code",
   "execution_count": 17,
   "metadata": {},
   "outputs": [],
   "source": [
    "import pyarrow\n",
    "import fastparquet"
   ]
  },
  {
   "cell_type": "code",
   "execution_count": 18,
   "metadata": {},
   "outputs": [
    {
     "name": "stdout",
     "output_type": "stream",
     "text": [
      "Archivo CSV guardado exitosamente.\n",
      "Archivo Parquet guardado exitosamente.\n"
     ]
    }
   ],
   "source": [
    "# Guardar el DataFrame en formato CSV\n",
    "df_users_items6.to_csv('australian_users_items.csv', index=False)\n",
    "print(\"Archivo CSV guardado exitosamente.\")\n",
    "\n",
    "# Guardar el DataFrame en formato Parquet\n",
    "df_users_items6.to_parquet('australian_users_items.parquet', index=False, engine='pyarrow', compression='snappy')\n",
    "print(\"Archivo Parquet guardado exitosamente.\")"
   ]
  },
  {
   "cell_type": "code",
   "execution_count": 20,
   "metadata": {},
   "outputs": [
    {
     "name": "stdout",
     "output_type": "stream",
     "text": [
      "Index(['id_usuario', 'items_count', 'id_item', 'nombre_de_item',\n",
      "       'tiempo_total_de_juego'],\n",
      "      dtype='object')\n"
     ]
    }
   ],
   "source": [
    "dfpr = pd.read_parquet('australian_users_items.parquet')\n",
    "\n",
    "# Mostrar los nombres de las columnas\n",
    "print(dfpr.columns)"
   ]
  }
 ],
 "metadata": {
  "kernelspec": {
   "display_name": "venv",
   "language": "python",
   "name": "python3"
  },
  "language_info": {
   "codemirror_mode": {
    "name": "ipython",
    "version": 3
   },
   "file_extension": ".py",
   "mimetype": "text/x-python",
   "name": "python",
   "nbconvert_exporter": "python",
   "pygments_lexer": "ipython3",
   "version": "3.12.4"
  }
 },
 "nbformat": 4,
 "nbformat_minor": 2
}
